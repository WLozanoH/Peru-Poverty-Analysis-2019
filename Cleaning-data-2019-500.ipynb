{
 "cells": [
  {
   "cell_type": "markdown",
   "metadata": {},
   "source": [
    "# “Data cleaning for poverty analysis in Peru (2019)”\n",
    "\n",
    "* Análisis de la evolución de la pobreza y bienestar de los hogares en Perú utilizando data de ENAHO 2019.\n",
    "\n",
    "👉 módulo (Enaho01a-2019-500)"
   ]
  },
  {
   "cell_type": "markdown",
   "metadata": {},
   "source": [
    "* Se usará Python (Pandas, NumPy, Matplotlib, Seaborn) para analizar más de 90 000 registros sobre empleo e ingresos de Perú (2019).\n",
    "\n",
    "* Se hará una limpieza de datos para manejar valores faltantes, duplicados y valores atípicos, asegurando la integridad de los datos para el análisis.\n",
    "\n",
    "* Se generará visualizaciones y análisis estadístico para identificar disparidades en los ingresos entre las áreas rurales y urbanas, destacando una brecha significativa de ingresos entre las áreas rurales y rurales."
   ]
  },
  {
   "cell_type": "code",
   "execution_count": 1,
   "metadata": {},
   "outputs": [],
   "source": [
    "#Importamos las librerías necesarias\n",
    "import pandas as pd\n",
    "import matplotlib.pyplot as plt\n",
    "import seaborn as sns\n",
    "import numpy as np\n",
    "import warnings\n",
    "warnings.filterwarnings('ignore')\n"
   ]
  },
  {
   "cell_type": "markdown",
   "metadata": {},
   "source": [
    "📌 Los datos son descargados de la web oficial de ENAHO(Encuesta Nacional de hogares) - INEI (Instituto Nacional de Estadística e Informática) 2019\n",
    "\n",
    "👉👉 https://www.datosabiertos.gob.pe/dataset/encuesta-nacional-de-hogares-enaho-2019-instituto-nacional-de-estad%C3%ADstica-e-inform%C3%A1tica-inei\n",
    "\n",
    "📌 Descargar el módulo ingresos y empleo (Enaho01a-2019-500.csv) directo aquí:👇👇\n",
    "\n",
    "✅ https://github.com/WLozanoH/Peru-Poverty-Analysis-2019/blob/main/Enaho01a-2019-500.zip"
   ]
  },
  {
   "cell_type": "code",
   "execution_count": 2,
   "metadata": {},
   "outputs": [
    {
     "data": {
      "text/html": [
       "<div>\n",
       "<style scoped>\n",
       "    .dataframe tbody tr th:only-of-type {\n",
       "        vertical-align: middle;\n",
       "    }\n",
       "\n",
       "    .dataframe tbody tr th {\n",
       "        vertical-align: top;\n",
       "    }\n",
       "\n",
       "    .dataframe thead th {\n",
       "        text-align: right;\n",
       "    }\n",
       "</style>\n",
       "<table border=\"1\" class=\"dataframe\">\n",
       "  <thead>\n",
       "    <tr style=\"text-align: right;\">\n",
       "      <th></th>\n",
       "      <th>MES</th>\n",
       "      <th>UBIGEO</th>\n",
       "      <th>DOMINIO</th>\n",
       "      <th>ESTRATO</th>\n",
       "      <th>P502</th>\n",
       "      <th>P503</th>\n",
       "      <th>P507</th>\n",
       "      <th>P510</th>\n",
       "      <th>P510A1</th>\n",
       "      <th>P5111</th>\n",
       "      <th>P5116</th>\n",
       "      <th>P51112</th>\n",
       "      <th>P511A</th>\n",
       "      <th>P524A1</th>\n",
       "      <th>OCUPINF</th>\n",
       "      <th>FAC500A</th>\n",
       "    </tr>\n",
       "  </thead>\n",
       "  <tbody>\n",
       "    <tr>\n",
       "      <th>0</th>\n",
       "      <td>1</td>\n",
       "      <td>10101</td>\n",
       "      <td>4</td>\n",
       "      <td>4</td>\n",
       "      <td>NaN</td>\n",
       "      <td>NaN</td>\n",
       "      <td>2.0</td>\n",
       "      <td>NaN</td>\n",
       "      <td>3.0</td>\n",
       "      <td>0.0</td>\n",
       "      <td>0.0</td>\n",
       "      <td>0.0</td>\n",
       "      <td>NaN</td>\n",
       "      <td>NaN</td>\n",
       "      <td>1.0</td>\n",
       "      <td>73.243919</td>\n",
       "    </tr>\n",
       "    <tr>\n",
       "      <th>1</th>\n",
       "      <td>1</td>\n",
       "      <td>10101</td>\n",
       "      <td>4</td>\n",
       "      <td>4</td>\n",
       "      <td>NaN</td>\n",
       "      <td>NaN</td>\n",
       "      <td>5.0</td>\n",
       "      <td>NaN</td>\n",
       "      <td>3.0</td>\n",
       "      <td>0.0</td>\n",
       "      <td>0.0</td>\n",
       "      <td>1.0</td>\n",
       "      <td>7.0</td>\n",
       "      <td>NaN</td>\n",
       "      <td>1.0</td>\n",
       "      <td>111.098007</td>\n",
       "    </tr>\n",
       "    <tr>\n",
       "      <th>2</th>\n",
       "      <td>1</td>\n",
       "      <td>10101</td>\n",
       "      <td>4</td>\n",
       "      <td>4</td>\n",
       "      <td>NaN</td>\n",
       "      <td>NaN</td>\n",
       "      <td>2.0</td>\n",
       "      <td>NaN</td>\n",
       "      <td>3.0</td>\n",
       "      <td>0.0</td>\n",
       "      <td>0.0</td>\n",
       "      <td>0.0</td>\n",
       "      <td>NaN</td>\n",
       "      <td>NaN</td>\n",
       "      <td>1.0</td>\n",
       "      <td>73.243919</td>\n",
       "    </tr>\n",
       "    <tr>\n",
       "      <th>3</th>\n",
       "      <td>1</td>\n",
       "      <td>10101</td>\n",
       "      <td>4</td>\n",
       "      <td>4</td>\n",
       "      <td>NaN</td>\n",
       "      <td>NaN</td>\n",
       "      <td>3.0</td>\n",
       "      <td>6.0</td>\n",
       "      <td>2.0</td>\n",
       "      <td>1.0</td>\n",
       "      <td>0.0</td>\n",
       "      <td>0.0</td>\n",
       "      <td>2.0</td>\n",
       "      <td>956.0</td>\n",
       "      <td>2.0</td>\n",
       "      <td>111.098007</td>\n",
       "    </tr>\n",
       "    <tr>\n",
       "      <th>4</th>\n",
       "      <td>1</td>\n",
       "      <td>10101</td>\n",
       "      <td>4</td>\n",
       "      <td>4</td>\n",
       "      <td>NaN</td>\n",
       "      <td>NaN</td>\n",
       "      <td>3.0</td>\n",
       "      <td>6.0</td>\n",
       "      <td>2.0</td>\n",
       "      <td>1.0</td>\n",
       "      <td>0.0</td>\n",
       "      <td>0.0</td>\n",
       "      <td>7.0</td>\n",
       "      <td>900.0</td>\n",
       "      <td>1.0</td>\n",
       "      <td>93.555817</td>\n",
       "    </tr>\n",
       "  </tbody>\n",
       "</table>\n",
       "</div>"
      ],
      "text/plain": [
       "   MES  UBIGEO  DOMINIO  ESTRATO  P502  P503  P507  P510  P510A1  P5111  \\\n",
       "0    1   10101        4        4   NaN   NaN   2.0   NaN     3.0    0.0   \n",
       "1    1   10101        4        4   NaN   NaN   5.0   NaN     3.0    0.0   \n",
       "2    1   10101        4        4   NaN   NaN   2.0   NaN     3.0    0.0   \n",
       "3    1   10101        4        4   NaN   NaN   3.0   6.0     2.0    1.0   \n",
       "4    1   10101        4        4   NaN   NaN   3.0   6.0     2.0    1.0   \n",
       "\n",
       "   P5116  P51112  P511A  P524A1  OCUPINF     FAC500A  \n",
       "0    0.0     0.0    NaN     NaN      1.0   73.243919  \n",
       "1    0.0     1.0    7.0     NaN      1.0  111.098007  \n",
       "2    0.0     0.0    NaN     NaN      1.0   73.243919  \n",
       "3    0.0     0.0    2.0   956.0      2.0  111.098007  \n",
       "4    0.0     0.0    7.0   900.0      1.0   93.555817  "
      ]
     },
     "execution_count": 2,
     "metadata": {},
     "output_type": "execute_result"
    }
   ],
   "source": [
    "#CARGAMOS SOLO LA DATA A ANALIZAR\n",
    "\n",
    "df = pd.read_csv('Enaho01a-2019-500.csv', sep=',', usecols=['MES','UBIGEO','DOMINIO','ESTRATO',\n",
    "                                                            'P502','P503','P507','P510','P510A1','P5111','P5116',\n",
    "                                                            'P51112','P511A','P524A1','OCUPINF','FAC500A'],\n",
    "                 na_values= ' ')\n",
    "df.head()"
   ]
  },
  {
   "cell_type": "markdown",
   "metadata": {},
   "source": [
    "📌 Renombrando las variables para mejor manipulación de los datos"
   ]
  },
  {
   "cell_type": "code",
   "execution_count": 3,
   "metadata": {},
   "outputs": [],
   "source": [
    "#Renombrando las variables\n",
    "df.rename(columns={'P502':'empleo_fijo', \n",
    "                   'P503':'negocio_propio',\n",
    "                   'P507':'ocupacion_principal',\n",
    "                   'P510':'trabajo_ocup_principal',\n",
    "                   'P510A1':'registro_sunat',\n",
    "                   'P5111':'sueldo_ingresos',\n",
    "                   'P5116':'honorarios_ingresos',\n",
    "                   'P51112': 'no_recibe_ingresos',\n",
    "                   'P511A':'tipo_contrato',\n",
    "                   'P524A1':'ingreso_total',\n",
    "                   'FAC500A':'fact_expan_ingresos_empleo'}, inplace=True)"
   ]
  },
  {
   "cell_type": "code",
   "execution_count": 4,
   "metadata": {},
   "outputs": [
    {
     "data": {
      "text/html": [
       "<div>\n",
       "<style scoped>\n",
       "    .dataframe tbody tr th:only-of-type {\n",
       "        vertical-align: middle;\n",
       "    }\n",
       "\n",
       "    .dataframe tbody tr th {\n",
       "        vertical-align: top;\n",
       "    }\n",
       "\n",
       "    .dataframe thead th {\n",
       "        text-align: right;\n",
       "    }\n",
       "</style>\n",
       "<table border=\"1\" class=\"dataframe\">\n",
       "  <thead>\n",
       "    <tr style=\"text-align: right;\">\n",
       "      <th></th>\n",
       "      <th>mes</th>\n",
       "      <th>ubigeo</th>\n",
       "      <th>dominio</th>\n",
       "      <th>estrato</th>\n",
       "      <th>empleo_fijo</th>\n",
       "      <th>negocio_propio</th>\n",
       "      <th>ocupacion_principal</th>\n",
       "      <th>trabajo_ocup_principal</th>\n",
       "      <th>registro_sunat</th>\n",
       "      <th>sueldo_ingresos</th>\n",
       "      <th>honorarios_ingresos</th>\n",
       "      <th>no_recibe_ingresos</th>\n",
       "      <th>tipo_contrato</th>\n",
       "      <th>ingreso_total</th>\n",
       "      <th>ocupinf</th>\n",
       "      <th>fact_expan_ingresos_empleo</th>\n",
       "    </tr>\n",
       "  </thead>\n",
       "  <tbody>\n",
       "    <tr>\n",
       "      <th>0</th>\n",
       "      <td>1</td>\n",
       "      <td>10101</td>\n",
       "      <td>4</td>\n",
       "      <td>4</td>\n",
       "      <td>NaN</td>\n",
       "      <td>NaN</td>\n",
       "      <td>2.0</td>\n",
       "      <td>NaN</td>\n",
       "      <td>3.0</td>\n",
       "      <td>0.0</td>\n",
       "      <td>0.0</td>\n",
       "      <td>0.0</td>\n",
       "      <td>NaN</td>\n",
       "      <td>NaN</td>\n",
       "      <td>1.0</td>\n",
       "      <td>73.243919</td>\n",
       "    </tr>\n",
       "    <tr>\n",
       "      <th>1</th>\n",
       "      <td>1</td>\n",
       "      <td>10101</td>\n",
       "      <td>4</td>\n",
       "      <td>4</td>\n",
       "      <td>NaN</td>\n",
       "      <td>NaN</td>\n",
       "      <td>5.0</td>\n",
       "      <td>NaN</td>\n",
       "      <td>3.0</td>\n",
       "      <td>0.0</td>\n",
       "      <td>0.0</td>\n",
       "      <td>1.0</td>\n",
       "      <td>7.0</td>\n",
       "      <td>NaN</td>\n",
       "      <td>1.0</td>\n",
       "      <td>111.098007</td>\n",
       "    </tr>\n",
       "    <tr>\n",
       "      <th>2</th>\n",
       "      <td>1</td>\n",
       "      <td>10101</td>\n",
       "      <td>4</td>\n",
       "      <td>4</td>\n",
       "      <td>NaN</td>\n",
       "      <td>NaN</td>\n",
       "      <td>2.0</td>\n",
       "      <td>NaN</td>\n",
       "      <td>3.0</td>\n",
       "      <td>0.0</td>\n",
       "      <td>0.0</td>\n",
       "      <td>0.0</td>\n",
       "      <td>NaN</td>\n",
       "      <td>NaN</td>\n",
       "      <td>1.0</td>\n",
       "      <td>73.243919</td>\n",
       "    </tr>\n",
       "    <tr>\n",
       "      <th>3</th>\n",
       "      <td>1</td>\n",
       "      <td>10101</td>\n",
       "      <td>4</td>\n",
       "      <td>4</td>\n",
       "      <td>NaN</td>\n",
       "      <td>NaN</td>\n",
       "      <td>3.0</td>\n",
       "      <td>6.0</td>\n",
       "      <td>2.0</td>\n",
       "      <td>1.0</td>\n",
       "      <td>0.0</td>\n",
       "      <td>0.0</td>\n",
       "      <td>2.0</td>\n",
       "      <td>956.0</td>\n",
       "      <td>2.0</td>\n",
       "      <td>111.098007</td>\n",
       "    </tr>\n",
       "    <tr>\n",
       "      <th>4</th>\n",
       "      <td>1</td>\n",
       "      <td>10101</td>\n",
       "      <td>4</td>\n",
       "      <td>4</td>\n",
       "      <td>NaN</td>\n",
       "      <td>NaN</td>\n",
       "      <td>3.0</td>\n",
       "      <td>6.0</td>\n",
       "      <td>2.0</td>\n",
       "      <td>1.0</td>\n",
       "      <td>0.0</td>\n",
       "      <td>0.0</td>\n",
       "      <td>7.0</td>\n",
       "      <td>900.0</td>\n",
       "      <td>1.0</td>\n",
       "      <td>93.555817</td>\n",
       "    </tr>\n",
       "  </tbody>\n",
       "</table>\n",
       "</div>"
      ],
      "text/plain": [
       "   mes  ubigeo  dominio  estrato  empleo_fijo  negocio_propio  \\\n",
       "0    1   10101        4        4          NaN             NaN   \n",
       "1    1   10101        4        4          NaN             NaN   \n",
       "2    1   10101        4        4          NaN             NaN   \n",
       "3    1   10101        4        4          NaN             NaN   \n",
       "4    1   10101        4        4          NaN             NaN   \n",
       "\n",
       "   ocupacion_principal  trabajo_ocup_principal  registro_sunat  \\\n",
       "0                  2.0                     NaN             3.0   \n",
       "1                  5.0                     NaN             3.0   \n",
       "2                  2.0                     NaN             3.0   \n",
       "3                  3.0                     6.0             2.0   \n",
       "4                  3.0                     6.0             2.0   \n",
       "\n",
       "   sueldo_ingresos  honorarios_ingresos  no_recibe_ingresos  tipo_contrato  \\\n",
       "0              0.0                  0.0                 0.0            NaN   \n",
       "1              0.0                  0.0                 1.0            7.0   \n",
       "2              0.0                  0.0                 0.0            NaN   \n",
       "3              1.0                  0.0                 0.0            2.0   \n",
       "4              1.0                  0.0                 0.0            7.0   \n",
       "\n",
       "   ingreso_total  ocupinf  fact_expan_ingresos_empleo  \n",
       "0            NaN      1.0                   73.243919  \n",
       "1            NaN      1.0                  111.098007  \n",
       "2            NaN      1.0                   73.243919  \n",
       "3          956.0      2.0                  111.098007  \n",
       "4          900.0      1.0                   93.555817  "
      ]
     },
     "execution_count": 4,
     "metadata": {},
     "output_type": "execute_result"
    }
   ],
   "source": [
    "#convertir a minuscula todos las variables del dataframe para mejor manipulación\n",
    "df.columns = df.columns.str.lower()\n",
    "df.head()"
   ]
  },
  {
   "cell_type": "code",
   "execution_count": 5,
   "metadata": {},
   "outputs": [
    {
     "name": "stdout",
     "output_type": "stream",
     "text": [
      "<class 'pandas.core.frame.DataFrame'>\n",
      "RangeIndex: 92094 entries, 0 to 92093\n",
      "Data columns (total 16 columns):\n",
      " #   Column                      Non-Null Count  Dtype  \n",
      "---  ------                      --------------  -----  \n",
      " 0   mes                         92094 non-null  int64  \n",
      " 1   ubigeo                      92094 non-null  int64  \n",
      " 2   dominio                     92094 non-null  int64  \n",
      " 3   estrato                     92094 non-null  int64  \n",
      " 4   empleo_fijo                 29013 non-null  float64\n",
      " 5   negocio_propio              28166 non-null  float64\n",
      " 6   ocupacion_principal         69370 non-null  float64\n",
      " 7   trabajo_ocup_principal      25705 non-null  float64\n",
      " 8   registro_sunat              62293 non-null  float64\n",
      " 9   sueldo_ingresos             68997 non-null  float64\n",
      " 10  honorarios_ingresos         68997 non-null  float64\n",
      " 11  no_recibe_ingresos          68997 non-null  float64\n",
      " 12  tipo_contrato               39510 non-null  float64\n",
      " 13  ingreso_total               26146 non-null  float64\n",
      " 14  ocupinf                     64954 non-null  float64\n",
      " 15  fact_expan_ingresos_empleo  92094 non-null  float64\n",
      "dtypes: float64(12), int64(4)\n",
      "memory usage: 11.2 MB\n"
     ]
    }
   ],
   "source": [
    "df.info()"
   ]
  },
  {
   "cell_type": "markdown",
   "metadata": {},
   "source": [
    "📌 crear un diccionario para darle nombre a los meses  del año 2022"
   ]
  },
  {
   "cell_type": "code",
   "execution_count": 6,
   "metadata": {},
   "outputs": [],
   "source": [
    "#crear un diccionario para darle nombre a los meses\n",
    "meses = {\n",
    "    1: 'Enero', 2: 'Febrero', 3: 'Marzo', 4: 'Abril', \n",
    "    5: 'Mayo', 6: 'Junio', 7: 'Julio', 8: 'Agosto', \n",
    "    9: 'Septiembre', 10: 'Octubre', 11: 'Noviembre', 12: 'Diciembre'\n",
    "}\n",
    "\n",
    "# Reemplazar los valores numéricos por los nombres de meses\n",
    "df['mes'] = df['mes'].map(meses)\n",
    "\n",
    "#orden de meses\n",
    "orden_meses = ['Enero','Febrero','Marzo','Abril','Mayo','Junio','Julio','Agosto', \n",
    "    'Septiembre','Octubre','Noviembre','Diciembre']\n",
    "\n",
    "#ordenando los meses\n",
    "df['mes'] = pd.Categorical(df['mes'],\n",
    "                           categories=orden_meses,\n",
    "                           ordered=True)"
   ]
  },
  {
   "cell_type": "markdown",
   "metadata": {},
   "source": [
    "📌 Crear un diccionario para darle nombre a la subclasificación del Dominio Geográfico"
   ]
  },
  {
   "cell_type": "code",
   "execution_count": 7,
   "metadata": {},
   "outputs": [],
   "source": [
    "#crear un diccionario para Dominio Geográfico, \n",
    "# variable = 'DOMINIO' para  almacenar los datos de cada región\n",
    "dominio_geográfico = {\n",
    "    1: 'Costa Norte',\n",
    "    2: 'Costa Centro',\n",
    "    3: 'Costa Sur',\n",
    "    4: 'Sierra Norte',\n",
    "    5: 'Sierra Centro',\n",
    "    6: 'Sierra Sur',\n",
    "    7: 'Selva',\n",
    "    8: 'Lima Metropolitana'\n",
    "}\n",
    "\n",
    "#Reemplazar los valores numéricos por los nombres de dominio geográfico\n",
    "df['dominio'] = df['dominio'].map(dominio_geográfico)\n"
   ]
  },
  {
   "cell_type": "markdown",
   "metadata": {},
   "source": [
    "📌 Crear un diccionario para estrato la subclasificación de estrato geográfico - se determina las zonas urbanas y rurales\n"
   ]
  },
  {
   "cell_type": "code",
   "execution_count": 8,
   "metadata": {},
   "outputs": [],
   "source": [
    "#Crear un diccionario para estrato geográfico\n",
    "#Área de Empadronamiento Rural = AER\n",
    "estrato_geografico = {\n",
    "    \n",
    "    1: \"500,000 a más\", \n",
    "    2: \"100,000 a 499,999\", \n",
    "    3: \"50,000 a 99,999\", \n",
    "    4: \"20,000 a 49,999\",\n",
    "    5: \"2,000 a 19,999\", \n",
    "    6: \"500 a 1,999\", \n",
    "    7: \"AER Compuesto\",\n",
    "    8: \"AER Simple\"\n",
    "    \n",
    "}\n",
    "\n",
    "df['estrato'] = df['estrato'].map(estrato_geografico)"
   ]
  },
  {
   "cell_type": "markdown",
   "metadata": {},
   "source": [
    "📌 Analizamos la variable \"ESTRATO\" para clasificar la muestra en URBANO y RURAL\n",
    "\n",
    "    'AER' = Área de empadronamiento RURAL"
   ]
  },
  {
   "cell_type": "code",
   "execution_count": 9,
   "metadata": {},
   "outputs": [],
   "source": [
    "#Creando la variable 'ZONAS' para identificar la muestra urbana y rural\n",
    "df['zonas'] = df['estrato']\n",
    "#clasificamos la variable 'urbana' y 'rural' usando lambda\n",
    "df['zonas'] = df['zonas'].apply(lambda x:'rural' if x == 'AER Simple' or  x == 'AER Compuesto' else 'urbano')"
   ]
  },
  {
   "cell_type": "code",
   "execution_count": 10,
   "metadata": {},
   "outputs": [
    {
     "name": "stdout",
     "output_type": "stream",
     "text": [
      "zonas\n",
      "urbano    63828\n",
      "rural     28266\n",
      "Name: count, dtype: int64\n",
      "---------------\n",
      "zonas\n",
      "urbano    69.307447\n",
      "rural     30.692553\n",
      "Name: count, dtype: float64\n"
     ]
    }
   ],
   "source": [
    "#muetra total para la zona urvana y rural\n",
    "print(df['zonas'].value_counts())\n",
    "print('---------------')\n",
    "#porcentaje de la muetra total para la zona urvana y rural\n",
    "print(df['zonas'].value_counts()/ df['zonas'].shape[0] *100)"
   ]
  },
  {
   "cell_type": "code",
   "execution_count": 11,
   "metadata": {},
   "outputs": [
    {
     "data": {
      "text/html": [
       "<div>\n",
       "<style scoped>\n",
       "    .dataframe tbody tr th:only-of-type {\n",
       "        vertical-align: middle;\n",
       "    }\n",
       "\n",
       "    .dataframe tbody tr th {\n",
       "        vertical-align: top;\n",
       "    }\n",
       "\n",
       "    .dataframe thead th {\n",
       "        text-align: right;\n",
       "    }\n",
       "</style>\n",
       "<table border=\"1\" class=\"dataframe\">\n",
       "  <thead>\n",
       "    <tr style=\"text-align: right;\">\n",
       "      <th></th>\n",
       "      <th>mes</th>\n",
       "      <th>ubigeo</th>\n",
       "      <th>dominio</th>\n",
       "      <th>estrato</th>\n",
       "      <th>empleo_fijo</th>\n",
       "      <th>negocio_propio</th>\n",
       "      <th>ocupacion_principal</th>\n",
       "      <th>trabajo_ocup_principal</th>\n",
       "      <th>registro_sunat</th>\n",
       "      <th>sueldo_ingresos</th>\n",
       "      <th>honorarios_ingresos</th>\n",
       "      <th>no_recibe_ingresos</th>\n",
       "      <th>tipo_contrato</th>\n",
       "      <th>ingreso_total</th>\n",
       "      <th>ocupinf</th>\n",
       "      <th>fact_expan_ingresos_empleo</th>\n",
       "      <th>zonas</th>\n",
       "    </tr>\n",
       "  </thead>\n",
       "  <tbody>\n",
       "    <tr>\n",
       "      <th>0</th>\n",
       "      <td>Enero</td>\n",
       "      <td>10101</td>\n",
       "      <td>Sierra Norte</td>\n",
       "      <td>20,000 a 49,999</td>\n",
       "      <td>NaN</td>\n",
       "      <td>NaN</td>\n",
       "      <td>2.0</td>\n",
       "      <td>NaN</td>\n",
       "      <td>3.0</td>\n",
       "      <td>0.0</td>\n",
       "      <td>0.0</td>\n",
       "      <td>0.0</td>\n",
       "      <td>NaN</td>\n",
       "      <td>NaN</td>\n",
       "      <td>1.0</td>\n",
       "      <td>73.243919</td>\n",
       "      <td>urbano</td>\n",
       "    </tr>\n",
       "    <tr>\n",
       "      <th>1</th>\n",
       "      <td>Enero</td>\n",
       "      <td>10101</td>\n",
       "      <td>Sierra Norte</td>\n",
       "      <td>20,000 a 49,999</td>\n",
       "      <td>NaN</td>\n",
       "      <td>NaN</td>\n",
       "      <td>5.0</td>\n",
       "      <td>NaN</td>\n",
       "      <td>3.0</td>\n",
       "      <td>0.0</td>\n",
       "      <td>0.0</td>\n",
       "      <td>1.0</td>\n",
       "      <td>7.0</td>\n",
       "      <td>NaN</td>\n",
       "      <td>1.0</td>\n",
       "      <td>111.098007</td>\n",
       "      <td>urbano</td>\n",
       "    </tr>\n",
       "    <tr>\n",
       "      <th>2</th>\n",
       "      <td>Enero</td>\n",
       "      <td>10101</td>\n",
       "      <td>Sierra Norte</td>\n",
       "      <td>20,000 a 49,999</td>\n",
       "      <td>NaN</td>\n",
       "      <td>NaN</td>\n",
       "      <td>2.0</td>\n",
       "      <td>NaN</td>\n",
       "      <td>3.0</td>\n",
       "      <td>0.0</td>\n",
       "      <td>0.0</td>\n",
       "      <td>0.0</td>\n",
       "      <td>NaN</td>\n",
       "      <td>NaN</td>\n",
       "      <td>1.0</td>\n",
       "      <td>73.243919</td>\n",
       "      <td>urbano</td>\n",
       "    </tr>\n",
       "    <tr>\n",
       "      <th>3</th>\n",
       "      <td>Enero</td>\n",
       "      <td>10101</td>\n",
       "      <td>Sierra Norte</td>\n",
       "      <td>20,000 a 49,999</td>\n",
       "      <td>NaN</td>\n",
       "      <td>NaN</td>\n",
       "      <td>3.0</td>\n",
       "      <td>6.0</td>\n",
       "      <td>2.0</td>\n",
       "      <td>1.0</td>\n",
       "      <td>0.0</td>\n",
       "      <td>0.0</td>\n",
       "      <td>2.0</td>\n",
       "      <td>956.0</td>\n",
       "      <td>2.0</td>\n",
       "      <td>111.098007</td>\n",
       "      <td>urbano</td>\n",
       "    </tr>\n",
       "    <tr>\n",
       "      <th>4</th>\n",
       "      <td>Enero</td>\n",
       "      <td>10101</td>\n",
       "      <td>Sierra Norte</td>\n",
       "      <td>20,000 a 49,999</td>\n",
       "      <td>NaN</td>\n",
       "      <td>NaN</td>\n",
       "      <td>3.0</td>\n",
       "      <td>6.0</td>\n",
       "      <td>2.0</td>\n",
       "      <td>1.0</td>\n",
       "      <td>0.0</td>\n",
       "      <td>0.0</td>\n",
       "      <td>7.0</td>\n",
       "      <td>900.0</td>\n",
       "      <td>1.0</td>\n",
       "      <td>93.555817</td>\n",
       "      <td>urbano</td>\n",
       "    </tr>\n",
       "  </tbody>\n",
       "</table>\n",
       "</div>"
      ],
      "text/plain": [
       "     mes  ubigeo       dominio          estrato  empleo_fijo  negocio_propio  \\\n",
       "0  Enero   10101  Sierra Norte  20,000 a 49,999          NaN             NaN   \n",
       "1  Enero   10101  Sierra Norte  20,000 a 49,999          NaN             NaN   \n",
       "2  Enero   10101  Sierra Norte  20,000 a 49,999          NaN             NaN   \n",
       "3  Enero   10101  Sierra Norte  20,000 a 49,999          NaN             NaN   \n",
       "4  Enero   10101  Sierra Norte  20,000 a 49,999          NaN             NaN   \n",
       "\n",
       "   ocupacion_principal  trabajo_ocup_principal  registro_sunat  \\\n",
       "0                  2.0                     NaN             3.0   \n",
       "1                  5.0                     NaN             3.0   \n",
       "2                  2.0                     NaN             3.0   \n",
       "3                  3.0                     6.0             2.0   \n",
       "4                  3.0                     6.0             2.0   \n",
       "\n",
       "   sueldo_ingresos  honorarios_ingresos  no_recibe_ingresos  tipo_contrato  \\\n",
       "0              0.0                  0.0                 0.0            NaN   \n",
       "1              0.0                  0.0                 1.0            7.0   \n",
       "2              0.0                  0.0                 0.0            NaN   \n",
       "3              1.0                  0.0                 0.0            2.0   \n",
       "4              1.0                  0.0                 0.0            7.0   \n",
       "\n",
       "   ingreso_total  ocupinf  fact_expan_ingresos_empleo   zonas  \n",
       "0            NaN      1.0                   73.243919  urbano  \n",
       "1            NaN      1.0                  111.098007  urbano  \n",
       "2            NaN      1.0                   73.243919  urbano  \n",
       "3          956.0      2.0                  111.098007  urbano  \n",
       "4          900.0      1.0                   93.555817  urbano  "
      ]
     },
     "execution_count": 11,
     "metadata": {},
     "output_type": "execute_result"
    }
   ],
   "source": [
    "df.head()"
   ]
  },
  {
   "cell_type": "markdown",
   "metadata": {},
   "source": [
    "📌 Analizar valores nulos, duplicados y únicos"
   ]
  },
  {
   "cell_type": "code",
   "execution_count": 12,
   "metadata": {},
   "outputs": [
    {
     "name": "stdout",
     "output_type": "stream",
     "text": [
      "                            total_nulos  Porcentaje Nulos(%)\n",
      "mes                                   0             0.000000\n",
      "ubigeo                                0             0.000000\n",
      "dominio                               0             0.000000\n",
      "estrato                               0             0.000000\n",
      "empleo_fijo                       63081            68.496319\n",
      "negocio_propio                    63928            69.416031\n",
      "ocupacion_principal               22724            24.674789\n",
      "trabajo_ocup_principal            66389            72.088301\n",
      "registro_sunat                    29801            32.359329\n",
      "sueldo_ingresos                   23097            25.079810\n",
      "honorarios_ingresos               23097            25.079810\n",
      "no_recibe_ingresos                23097            25.079810\n",
      "tipo_contrato                     52584            57.098182\n",
      "ingreso_total                     65948            71.609443\n",
      "ocupinf                           27140            29.469889\n",
      "fact_expan_ingresos_empleo            0             0.000000\n",
      "zonas                                 0             0.000000\n"
     ]
    }
   ],
   "source": [
    "#verificando valores nulos\n",
    "total_valores_nulos = df.isnull().sum()\n",
    "porcentaje_valores_nulos = (total_valores_nulos/len(df)) *100\n",
    "\n",
    "#creamos un dataframe para mostrar solo resultados nulos\n",
    "resultado_nulos = pd.DataFrame({'total_nulos':total_valores_nulos,'Porcentaje Nulos(%)':porcentaje_valores_nulos})\n",
    "print(resultado_nulos)\n",
    "\n"
   ]
  },
  {
   "cell_type": "markdown",
   "metadata": {},
   "source": [
    "# Analizando y completando valores nulos para cada variable"
   ]
  },
  {
   "cell_type": "markdown",
   "metadata": {},
   "source": [
    "📌 Análisis de 'empleo_fijo' = tiene empleo fijo o no"
   ]
  },
  {
   "cell_type": "code",
   "execution_count": 13,
   "metadata": {},
   "outputs": [],
   "source": [
    "#Análisis de variable 'empleo_fijo':\n",
    "## creamos un nueva categoría \"Desconocido\" para guardar los valores nulos\n",
    "df['empleo_fijo'].fillna('missing value', inplace=True)\n",
    "#reemplazar valores en 'empleo fijo': 1:empleo fijo, 0: no empleo fijo, desconocido : desconocido\n",
    "df['empleo_fijo'] = df['empleo_fijo'].replace({1.0: 1, 2.0: 0})\n"
   ]
  },
  {
   "cell_type": "code",
   "execution_count": 14,
   "metadata": {},
   "outputs": [],
   "source": [
    "#mapeamos empleo fijo\n",
    "empleofijo = {\n",
    "    \n",
    "    1:'tiene',\n",
    "    0: 'no tiene',\n",
    "    'missing value': 'missing value'\n",
    "}\n",
    "\n",
    "#reemplazamos los valores en la variable 'empleo_fijo'\n",
    "df['empleo_fijo'] = df['empleo_fijo'].map(empleofijo)"
   ]
  },
  {
   "cell_type": "code",
   "execution_count": 15,
   "metadata": {},
   "outputs": [
    {
     "data": {
      "text/plain": [
       "empleo_fijo\n",
       "missing value    63081\n",
       "no tiene         28166\n",
       "tiene              847\n",
       "Name: count, dtype: int64"
      ]
     },
     "execution_count": 15,
     "metadata": {},
     "output_type": "execute_result"
    }
   ],
   "source": [
    "#revisamos valores en:\n",
    "df['empleo_fijo'].value_counts()"
   ]
  },
  {
   "cell_type": "markdown",
   "metadata": {},
   "source": [
    "📌 Análisis de 'negocio_propio' = tiene negocio propio o no"
   ]
  },
  {
   "cell_type": "code",
   "execution_count": 16,
   "metadata": {},
   "outputs": [],
   "source": [
    "#Análisis de variable 'negocio_propio':\n",
    "## creamos un nueva categoría \"Desconocido\" para guardar los valores nulos\n",
    "df['negocio_propio'].fillna('missing value', inplace=True)\n",
    "#reemplazar valores en 'empleo fijo': 1:negocio propio, 0: no negocio propio, desconocido : desconocido\n",
    "df['negocio_propio'] = df['negocio_propio'].replace({1.0: 1, 2.0: 0})"
   ]
  },
  {
   "cell_type": "code",
   "execution_count": 17,
   "metadata": {},
   "outputs": [],
   "source": [
    "#mapeamos negocio_propio\n",
    "negociopropio = {\n",
    "    \n",
    "    1:'tiene',\n",
    "    0: 'no tiene',\n",
    "    'missing value': 'missing value'\n",
    "}\n",
    "\n",
    "#reemplazamos los valores en la variable 'empleo_fijo'\n",
    "df['negocio_propio'] = df['negocio_propio'].map(negociopropio)"
   ]
  },
  {
   "cell_type": "code",
   "execution_count": 18,
   "metadata": {},
   "outputs": [
    {
     "data": {
      "text/plain": [
       "negocio_propio\n",
       "missing value    63928\n",
       "no tiene         27752\n",
       "tiene              414\n",
       "Name: count, dtype: int64"
      ]
     },
     "execution_count": 18,
     "metadata": {},
     "output_type": "execute_result"
    }
   ],
   "source": [
    "#revisamos valores en:\n",
    "df['negocio_propio'].value_counts()"
   ]
  },
  {
   "cell_type": "markdown",
   "metadata": {},
   "source": [
    "📌 Análisis de 'ocupacion_principal'"
   ]
  },
  {
   "cell_type": "code",
   "execution_count": 19,
   "metadata": {},
   "outputs": [],
   "source": [
    "#Análisis de variable 'ocupacion_principal':\n",
    "## creamos un nueva categoría \"Desconocido\" para guardar los valores nulos\n",
    "df['ocupacion_principal'].fillna('missing value', inplace=True)\n",
    "#reemplazar valores en 'ocupacion_principal': \n",
    "df['ocupacion_principal'] = df['ocupacion_principal'].replace({1.0: 1, 2.0: 2, 3.0: 3, 4.0: 4, 5.0: 5, 6.0: 6, 7.0: 7 })"
   ]
  },
  {
   "cell_type": "code",
   "execution_count": 20,
   "metadata": {},
   "outputs": [],
   "source": [
    "ocupaciones = {\n",
    "    \n",
    "    1:'empleador',\n",
    "    2:'independiente',\n",
    "    3: 'empleado',\n",
    "    4: 'obrero',\n",
    "    5: 'no remunerado',\n",
    "    6: 'trab. hogar',\n",
    "    7: 'otro',\n",
    "    'missing value': 'missing value'\n",
    "}\n",
    "\n",
    "#reemplazamos los valores en la variable 'ocupacion_principal'\n",
    "df['ocupacion_principal'] = df['ocupacion_principal'].map(ocupaciones)"
   ]
  },
  {
   "cell_type": "code",
   "execution_count": 21,
   "metadata": {},
   "outputs": [
    {
     "data": {
      "text/plain": [
       "ocupacion_principal\n",
       "independiente    26806\n",
       "missing value    22724\n",
       "empleado         13251\n",
       "no remunerado    12973\n",
       "obrero           12182\n",
       "empleador         2681\n",
       "trab. hogar       1205\n",
       "otro               272\n",
       "Name: count, dtype: int64"
      ]
     },
     "execution_count": 21,
     "metadata": {},
     "output_type": "execute_result"
    }
   ],
   "source": [
    "#revisamos valores en:\n",
    "df['ocupacion_principal'].value_counts()"
   ]
  },
  {
   "cell_type": "markdown",
   "metadata": {},
   "source": [
    "📌 Análisis de trabajo en su ocupación principal = 'trabajo_ocup_principal'"
   ]
  },
  {
   "cell_type": "code",
   "execution_count": 22,
   "metadata": {},
   "outputs": [],
   "source": [
    "#Análisis de variable 'trabajo_ocup_principal':\n",
    "## creamos un nueva categoría \"Desconocido\" para guardar los valores nulos\n",
    "df['trabajo_ocup_principal'].fillna('missing value', inplace=True)\n",
    "#reemplazar valores en 'trabajo_ocup_principal':\n",
    "df['trabajo_ocup_principal'] = df['trabajo_ocup_principal'].replace({1.0: 1, 2.0: 2, 3.0: 3, 5.0: 4, 6.0: 5, 7.0: 6 })"
   ]
  },
  {
   "cell_type": "code",
   "execution_count": 23,
   "metadata": {},
   "outputs": [],
   "source": [
    "trabajos = {\n",
    "    \n",
    "    1:'f.a, pnp, etc',\n",
    "    2:'administración Pública',\n",
    "    3: 'empresa pública',\n",
    "    4: 'service',\n",
    "    5: 'empresa privada',\n",
    "    6: 'otra',\n",
    "    'missing value': 'missing value'\n",
    "}\n",
    "\n",
    "#reemplazamos los valores en la variable 'trabajo_ocup_principal'\n",
    "df['trabajo_ocup_principal'] = df['trabajo_ocup_principal'].map(trabajos)"
   ]
  },
  {
   "cell_type": "code",
   "execution_count": 24,
   "metadata": {},
   "outputs": [],
   "source": [
    "#reemplazamos empresa pública en administración Pública, dado que abarca un mismo grupo\n",
    "df['trabajo_ocup_principal'] = df['trabajo_ocup_principal'].replace({'empresa pública':'administración Pública'})"
   ]
  },
  {
   "cell_type": "code",
   "execution_count": 25,
   "metadata": {},
   "outputs": [
    {
     "data": {
      "text/plain": [
       "trabajo_ocup_principal\n",
       "missing value             66389\n",
       "empresa privada           19297\n",
       "administración Pública     5499\n",
       "service                     536\n",
       "f.a, pnp, etc               373\n",
       "Name: count, dtype: int64"
      ]
     },
     "execution_count": 25,
     "metadata": {},
     "output_type": "execute_result"
    }
   ],
   "source": [
    "#revisamos valores en:\n",
    "df['trabajo_ocup_principal'].value_counts()"
   ]
  },
  {
   "cell_type": "markdown",
   "metadata": {},
   "source": [
    "📌 Análisis de 'registro_sunat' = si la empresa donde labora está o no registrada en SUNAT"
   ]
  },
  {
   "cell_type": "code",
   "execution_count": 26,
   "metadata": {},
   "outputs": [],
   "source": [
    "#Análisis de variable 'trabajo_ocup_principal':\n",
    "## creamos un nueva categoría \"Desconocido\" para guardar los valores nulos\n",
    "df['registro_sunat'].fillna('missing value', inplace=True)\n",
    "\n",
    "#reemplazar valores en 'registro_sunat':\n",
    "df['registro_sunat'] = df['registro_sunat'].replace({1.0: 1, 2.0: 2, 3.0: 3})"
   ]
  },
  {
   "cell_type": "code",
   "execution_count": 27,
   "metadata": {},
   "outputs": [],
   "source": [
    "#crear un diccionario para mapear datos de\n",
    "\n",
    "registros_sunat = {\n",
    "    \n",
    "    1:'persona jurídica',\n",
    "    2:'persona natural',\n",
    "    3: 'no está registrado',\n",
    "    'missing value': 'missing value'\n",
    "}\n",
    "\n",
    "#reemplazamos los valores en la variable 'registro_sunat'\n",
    "df['registro_sunat'] = df['registro_sunat'].map(registros_sunat)"
   ]
  },
  {
   "cell_type": "code",
   "execution_count": 28,
   "metadata": {},
   "outputs": [
    {
     "data": {
      "text/plain": [
       "registro_sunat\n",
       "no está registrado    45287\n",
       "missing value         29801\n",
       "persona jurídica       9418\n",
       "persona natural        7588\n",
       "Name: count, dtype: int64"
      ]
     },
     "execution_count": 28,
     "metadata": {},
     "output_type": "execute_result"
    }
   ],
   "source": [
    "#revisamos valores en:\n",
    "df['registro_sunat'].value_counts()"
   ]
  },
  {
   "cell_type": "markdown",
   "metadata": {},
   "source": [
    "📌 Analizamos la variable 'sueldo_ingresos' = si la persona recibe un sueldo como ingresos o no"
   ]
  },
  {
   "cell_type": "code",
   "execution_count": 29,
   "metadata": {},
   "outputs": [],
   "source": [
    "## creamos un nueva categoría \"Desconocido\" para guardar los valores nulos\n",
    "df['sueldo_ingresos'].fillna('missing value', inplace=True)\n",
    "\n",
    "#reemplazar valores en 'sueldo_ingresos': 1:si tiene sueldo, 0: no tiene sueldo, desconocido : desconocido\n",
    "df['sueldo_ingresos'] = df['sueldo_ingresos'].replace({1.0: 1, 0.0: 0})"
   ]
  },
  {
   "cell_type": "code",
   "execution_count": 30,
   "metadata": {},
   "outputs": [],
   "source": [
    "#mapeo de la variable 'sueldo_ingresos':\n",
    "sueldos = {\n",
    "    \n",
    "    1: 'si recibe',\n",
    "    0: 'otro',\n",
    "    'missing value':'missing value'\n",
    "    \n",
    "}\n",
    "\n",
    "#reemplazamos los valores en la variable 'sueldo_ingresos'\n",
    "df['sueldo_ingresos'] = df['sueldo_ingresos'].map(sueldos)"
   ]
  },
  {
   "cell_type": "code",
   "execution_count": 31,
   "metadata": {},
   "outputs": [
    {
     "data": {
      "text/plain": [
       "sueldo_ingresos\n",
       "otro             55442\n",
       "missing value    23097\n",
       "si recibe        13555\n",
       "Name: count, dtype: int64"
      ]
     },
     "execution_count": 31,
     "metadata": {},
     "output_type": "execute_result"
    }
   ],
   "source": [
    "#revisamos valores en:\n",
    "df['sueldo_ingresos'].value_counts()"
   ]
  },
  {
   "cell_type": "markdown",
   "metadata": {},
   "source": [
    "📌 Analisis de la variable 'honorarios_ingresos' = si una persona obtiene ingresos por honorarios profesionales o no"
   ]
  },
  {
   "cell_type": "code",
   "execution_count": 32,
   "metadata": {},
   "outputs": [],
   "source": [
    "## creamos un nueva categoría \"Desconocido\" para guardar los valores nulos\n",
    "df['honorarios_ingresos'].fillna('missing value', inplace=True)\n",
    "\n",
    "#reemplazar valores en 'honorarios_ingresos': 1:si , 0: no , desconocido : desconocido\n",
    "df['honorarios_ingresos'] = df['honorarios_ingresos'].replace({1.0: 1, 0.0: 0})"
   ]
  },
  {
   "cell_type": "code",
   "execution_count": 33,
   "metadata": {},
   "outputs": [],
   "source": [
    "#mapeo de la variable 'honorarios_ingresos':\n",
    "honorarios = {\n",
    "    \n",
    "    1: 'si recibe',\n",
    "    0: 'otro',\n",
    "    'missing value':'missing value'\n",
    "    \n",
    "}\n",
    "\n",
    "#reemplazamos los valores en la variable 'honorarios_ingresos'\n",
    "df['honorarios_ingresos'] = df['honorarios_ingresos'].map(honorarios)"
   ]
  },
  {
   "cell_type": "code",
   "execution_count": 34,
   "metadata": {},
   "outputs": [
    {
     "data": {
      "text/plain": [
       "honorarios_ingresos\n",
       "otro             68620\n",
       "missing value    23097\n",
       "si recibe          377\n",
       "Name: count, dtype: int64"
      ]
     },
     "execution_count": 34,
     "metadata": {},
     "output_type": "execute_result"
    }
   ],
   "source": [
    "#revisamos valores en:\n",
    "df['honorarios_ingresos'].value_counts()"
   ]
  },
  {
   "cell_type": "markdown",
   "metadata": {},
   "source": [
    "📌 Análisis de la variable 'no_recibe_ingresos' , las personas que a pesar que tienen una ocupación principal, no perciben ningún ingreso"
   ]
  },
  {
   "cell_type": "code",
   "execution_count": 35,
   "metadata": {},
   "outputs": [],
   "source": [
    "## creamos un nueva categoría \"Desconocido\" para guardar los valores nulos\n",
    "df['no_recibe_ingresos'].fillna('missing value', inplace=True)\n",
    "\n",
    "#reemplazar valores en 'honorarios_ingresos': 1: no recibe , 0: otro , desconocido : desconocido\n",
    "df['no_recibe_ingresos'] = df['no_recibe_ingresos'].replace({1.0: 1, 0.0: 0})"
   ]
  },
  {
   "cell_type": "code",
   "execution_count": 36,
   "metadata": {},
   "outputs": [],
   "source": [
    "#mapeo de la variable 'no_recibe_ingresos':\n",
    "no_ingresos = {\n",
    "    \n",
    "    1: 'no recibe ingresos',\n",
    "    0: 'otro',\n",
    "    'missing value':'missing value'\n",
    "    \n",
    "}\n",
    "\n",
    "#reemplazamos los valores en la variable 'no_recibe_ingresos'\n",
    "df['no_recibe_ingresos'] = df['no_recibe_ingresos'].map(no_ingresos)"
   ]
  },
  {
   "cell_type": "code",
   "execution_count": 37,
   "metadata": {},
   "outputs": [
    {
     "data": {
      "text/plain": [
       "no_recibe_ingresos\n",
       "otro                  55825\n",
       "missing value         23097\n",
       "no recibe ingresos    13172\n",
       "Name: count, dtype: int64"
      ]
     },
     "execution_count": 37,
     "metadata": {},
     "output_type": "execute_result"
    }
   ],
   "source": [
    "#revisamos valores en:\n",
    "df['no_recibe_ingresos'].value_counts()"
   ]
  },
  {
   "cell_type": "markdown",
   "metadata": {},
   "source": [
    "📌 Análisis de la variable 'tipo_contrato' = el tipo de contrato que tiene la persona donde está laborando"
   ]
  },
  {
   "cell_type": "code",
   "execution_count": 38,
   "metadata": {},
   "outputs": [],
   "source": [
    "## creamos un nueva categoría \"Desconocido\" para guardar los valores nulos\n",
    "df['tipo_contrato'].fillna('missing value', inplace=True)\n",
    "\n",
    "#reemplazar valores en 'honorarios_ingresos': 1: no recibe , 0: otro , desconocido : desconocido\n",
    "df['tipo_contrato'] = df['tipo_contrato'].replace({1.0: 1, 2.0: 2, 3.0: 3, 4.0: 4, 5.0: 5, 6.0: 6, 7.0: 7 })"
   ]
  },
  {
   "cell_type": "markdown",
   "metadata": {},
   "source": [
    "5. Contrato por locación de servicios (Honorarios profesionales, RUC), SNP\n",
    "\n",
    "6. Regimen Especial de Contratación Administrativa (CAS)"
   ]
  },
  {
   "cell_type": "code",
   "execution_count": 39,
   "metadata": {},
   "outputs": [],
   "source": [
    "#mapeando valores para 'tipo_contrato'\n",
    "tipos_contratos = {\n",
    "    \n",
    "    1:'indefinido',\n",
    "    2:'plazo fijo',\n",
    "    3: 'periodo. prueba',\n",
    "    4: 'prácticas',\n",
    "    5: 'locación',\n",
    "    6: 'cas',\n",
    "    7: 'otro',\n",
    "    'missing value': 'missing value'\n",
    "}\n",
    "\n",
    "#reemplazamos los valores en la variable 'tipo_contrato'\n",
    "df['tipo_contrato'] = df['tipo_contrato'].map(tipos_contratos)"
   ]
  },
  {
   "cell_type": "code",
   "execution_count": 40,
   "metadata": {},
   "outputs": [
    {
     "data": {
      "text/plain": [
       "tipo_contrato\n",
       "missing value      52584\n",
       "otro               25812\n",
       "plazo fijo          6919\n",
       "indefinido          4325\n",
       "locación            1640\n",
       "cas                  608\n",
       "prácticas            166\n",
       "periodo. prueba       40\n",
       "Name: count, dtype: int64"
      ]
     },
     "execution_count": 40,
     "metadata": {},
     "output_type": "execute_result"
    }
   ],
   "source": [
    "#revisamos valores en:\n",
    "df['tipo_contrato'].value_counts()"
   ]
  },
  {
   "cell_type": "markdown",
   "metadata": {},
   "source": [
    "📌 Análisis de la variable 'ingreso_total' == la cantidad total de ingresos que percibe una persona en este set de datos"
   ]
  },
  {
   "cell_type": "code",
   "execution_count": 41,
   "metadata": {},
   "outputs": [],
   "source": [
    "## creamos el missing value '999999' por 'nan' para evitar problemas en el cálculo estadístico\n",
    "df['ingreso_total'].replace(999999, np.nan, inplace=True)"
   ]
  },
  {
   "cell_type": "code",
   "execution_count": 42,
   "metadata": {},
   "outputs": [
    {
     "data": {
      "text/plain": [
       "count    26146.000000\n",
       "mean      1197.060698\n",
       "std       1382.860400\n",
       "min          4.000000\n",
       "25%        250.000000\n",
       "50%        900.000000\n",
       "75%       1680.000000\n",
       "max      25000.000000\n",
       "Name: ingreso_total, dtype: float64"
      ]
     },
     "execution_count": 42,
     "metadata": {},
     "output_type": "execute_result"
    }
   ],
   "source": [
    "df['ingreso_total'].describe()"
   ]
  },
  {
   "cell_type": "markdown",
   "metadata": {},
   "source": [
    "📌 Completando los valores nulos para 'ingreso_total' dado que La mediana es la técnica más robusta frente a outliers, observamos que nuestro dataset contiene valores extremos (ingresos muy altos(max): '25000' o bajos(min):'4'), la mediana es una mejor medida de tendencia central.\n",
    "\n",
    "📌 completar los valores nulos en la variable 'ingreso_total' usando la mediana de acuerdo a la zona (urbano o rural)"
   ]
  },
  {
   "cell_type": "code",
   "execution_count": 43,
   "metadata": {},
   "outputs": [],
   "source": [
    "# Agrupar por la columna 'zona' (urbano/rural) y calcular la mediana para cada grupo\n",
    "mediana_por_zona = df.groupby('zonas')['ingreso_total'].median()\n",
    "\n",
    "# Crear una función que complete los valores nulos con la mediana correspondiente a la zona\n",
    "def completar_valores_nulos(row):\n",
    "    if pd.isnull(row['ingreso_total']):\n",
    "        return mediana_por_zona[row['zonas']]\n",
    "    else:\n",
    "        return row['ingreso_total']\n",
    "    \n",
    "# Aplicar la función fila por fila usando 'apply'\n",
    "df['ingreso_total'] = df.apply(completar_valores_nulos, axis=1)"
   ]
  },
  {
   "cell_type": "code",
   "execution_count": 44,
   "metadata": {},
   "outputs": [
    {
     "data": {
      "text/plain": [
       "0"
      ]
     },
     "execution_count": 44,
     "metadata": {},
     "output_type": "execute_result"
    }
   ],
   "source": [
    "# Verificar si los valores nulos han sido reemplazados\n",
    "df['ingreso_total'].isnull().sum()"
   ]
  },
  {
   "cell_type": "markdown",
   "metadata": {},
   "source": [
    "📌 Análisis de la variable 'ocupinf' == situación de informalidad en su ocupación principal\n",
    "\n",
    "        1 == empleo formal\n",
    "        2 == empleo informal"
   ]
  },
  {
   "cell_type": "code",
   "execution_count": 45,
   "metadata": {},
   "outputs": [],
   "source": [
    "## creamos un nueva categoría \"Desconocido\" para guardar los valores nulos\n",
    "df['ocupinf'].fillna('missing value', inplace=True)\n",
    "\n",
    "#reemplazar valores en 'honorarios_ingresos': 1: no recibe , 0: otro , desconocido : desconocido\n",
    "df['ocupinf'] = df['ocupinf'].replace({1.0: 1, 2.0: 2})"
   ]
  },
  {
   "cell_type": "code",
   "execution_count": 46,
   "metadata": {},
   "outputs": [],
   "source": [
    "#mapeando valores para 'ocupinf'\n",
    "situación_ocupacion = {\n",
    "    \n",
    "    1:'empleo formal',\n",
    "    2:'empleo informal',\n",
    "    'missing value': 'missing value'\n",
    "}\n",
    "\n",
    "#reemplazamos los valores en la variable 'ocupinf'\n",
    "df['ocupinf'] = df['ocupinf'].map(situación_ocupacion)"
   ]
  },
  {
   "cell_type": "code",
   "execution_count": 47,
   "metadata": {},
   "outputs": [
    {
     "data": {
      "text/plain": [
       "ocupinf\n",
       "empleo formal      50220\n",
       "missing value      27140\n",
       "empleo informal    14734\n",
       "Name: count, dtype: int64"
      ]
     },
     "execution_count": 47,
     "metadata": {},
     "output_type": "execute_result"
    }
   ],
   "source": [
    "df['ocupinf'].value_counts()"
   ]
  },
  {
   "cell_type": "markdown",
   "metadata": {},
   "source": [
    "🎯 Valores\n",
    "\n",
    "        * 'empleo_fijo'(3): 1: si, 0: no, desconocido\n",
    "        * 'negocio_propio'(3): 1: si, 0: no, desconocido\n",
    "        * 'ocupación_principal'(8)\n",
    "        * 'trabajo_ocup_principal'(7)\n",
    "        * 'registro_sunat'(3)\n",
    "        * 'sueldo_ingresos'(3): 1: si, 0: otro, desconocido\n",
    "        * 'honorarios_ingresos'(3) 1: si, 0: otro, desconocido\n",
    "        * 'no_recibe_ingreso':(3) 1: no recibe, 0: otro, desconocido\n",
    "        * 'tipo_contrato'(8)\n",
    "        * 'ingreso_total': variable a analizar para calculo de la pobreza\n",
    "        * 'ocupinf'(3)\n"
   ]
  },
  {
   "cell_type": "markdown",
   "metadata": {},
   "source": [
    "# VERIFICAR VALORES DUPLICADOS"
   ]
  },
  {
   "cell_type": "code",
   "execution_count": 48,
   "metadata": {},
   "outputs": [
    {
     "name": "stdout",
     "output_type": "stream",
     "text": [
      "19696\n",
      "--------------\n",
      "19696\n"
     ]
    }
   ],
   "source": [
    "#verificar valores duplicados\n",
    "print(df.duplicated().sum())\n",
    "print('--------------')\n",
    "print(df.duplicated().sum().max())"
   ]
  },
  {
   "cell_type": "code",
   "execution_count": 49,
   "metadata": {},
   "outputs": [
    {
     "name": "stdout",
     "output_type": "stream",
     "text": [
      "(92094, 17)\n",
      "(72398, 17)\n"
     ]
    }
   ],
   "source": [
    "#Eliminando filas duplicadas\n",
    "print(df.shape)\n",
    "df.drop_duplicates(inplace=True)\n",
    "print(df.shape)"
   ]
  },
  {
   "cell_type": "code",
   "execution_count": 50,
   "metadata": {},
   "outputs": [
    {
     "name": "stdout",
     "output_type": "stream",
     "text": [
      "<class 'pandas.core.frame.DataFrame'>\n",
      "Index: 72398 entries, 0 to 92093\n",
      "Data columns (total 17 columns):\n",
      " #   Column                      Non-Null Count  Dtype   \n",
      "---  ------                      --------------  -----   \n",
      " 0   mes                         72398 non-null  category\n",
      " 1   ubigeo                      72398 non-null  int64   \n",
      " 2   dominio                     72398 non-null  object  \n",
      " 3   estrato                     72398 non-null  object  \n",
      " 4   empleo_fijo                 72398 non-null  object  \n",
      " 5   negocio_propio              72398 non-null  object  \n",
      " 6   ocupacion_principal         72398 non-null  object  \n",
      " 7   trabajo_ocup_principal      72398 non-null  object  \n",
      " 8   registro_sunat              72398 non-null  object  \n",
      " 9   sueldo_ingresos             72398 non-null  object  \n",
      " 10  honorarios_ingresos         72398 non-null  object  \n",
      " 11  no_recibe_ingresos          72398 non-null  object  \n",
      " 12  tipo_contrato               72398 non-null  object  \n",
      " 13  ingreso_total               72398 non-null  float64 \n",
      " 14  ocupinf                     72398 non-null  object  \n",
      " 15  fact_expan_ingresos_empleo  72398 non-null  float64 \n",
      " 16  zonas                       72398 non-null  object  \n",
      "dtypes: category(1), float64(2), int64(1), object(13)\n",
      "memory usage: 9.5+ MB\n"
     ]
    }
   ],
   "source": [
    "df.info()\n",
    "#Index: 79721 entries, 0 to 87659"
   ]
  },
  {
   "cell_type": "code",
   "execution_count": 51,
   "metadata": {},
   "outputs": [
    {
     "name": "stdout",
     "output_type": "stream",
     "text": [
      "(72398, 17)\n",
      "(72398, 17)\n"
     ]
    }
   ],
   "source": [
    "#tipo de contrato tiene un valor nulo, por lo que se elimina\n",
    "print(df.shape)\n",
    "df.dropna(inplace=True)\n",
    "print(df.shape)"
   ]
  },
  {
   "cell_type": "code",
   "execution_count": 52,
   "metadata": {},
   "outputs": [
    {
     "name": "stdout",
     "output_type": "stream",
     "text": [
      "<class 'pandas.core.frame.DataFrame'>\n",
      "Index: 72398 entries, 0 to 92093\n",
      "Data columns (total 17 columns):\n",
      " #   Column                      Non-Null Count  Dtype   \n",
      "---  ------                      --------------  -----   \n",
      " 0   mes                         72398 non-null  category\n",
      " 1   ubigeo                      72398 non-null  int64   \n",
      " 2   dominio                     72398 non-null  object  \n",
      " 3   estrato                     72398 non-null  object  \n",
      " 4   empleo_fijo                 72398 non-null  object  \n",
      " 5   negocio_propio              72398 non-null  object  \n",
      " 6   ocupacion_principal         72398 non-null  object  \n",
      " 7   trabajo_ocup_principal      72398 non-null  object  \n",
      " 8   registro_sunat              72398 non-null  object  \n",
      " 9   sueldo_ingresos             72398 non-null  object  \n",
      " 10  honorarios_ingresos         72398 non-null  object  \n",
      " 11  no_recibe_ingresos          72398 non-null  object  \n",
      " 12  tipo_contrato               72398 non-null  object  \n",
      " 13  ingreso_total               72398 non-null  float64 \n",
      " 14  ocupinf                     72398 non-null  object  \n",
      " 15  fact_expan_ingresos_empleo  72398 non-null  float64 \n",
      " 16  zonas                       72398 non-null  object  \n",
      "dtypes: category(1), float64(2), int64(1), object(13)\n",
      "memory usage: 9.5+ MB\n"
     ]
    }
   ],
   "source": [
    "df.info()\n",
    "#Index: 79720 entries, 0 to 87659"
   ]
  },
  {
   "cell_type": "markdown",
   "metadata": {},
   "source": [
    "📌 verificando subniveles en variables categóricas"
   ]
  },
  {
   "cell_type": "code",
   "execution_count": 53,
   "metadata": {},
   "outputs": [
    {
     "name": "stdout",
     "output_type": "stream",
     "text": [
      "dominio: 8 subniveles\n",
      "estrato: 8 subniveles\n",
      "empleo_fijo: 3 subniveles\n",
      "negocio_propio: 3 subniveles\n",
      "ocupacion_principal: 8 subniveles\n",
      "trabajo_ocup_principal: 5 subniveles\n",
      "registro_sunat: 4 subniveles\n",
      "sueldo_ingresos: 3 subniveles\n",
      "honorarios_ingresos: 3 subniveles\n",
      "no_recibe_ingresos: 3 subniveles\n",
      "tipo_contrato: 8 subniveles\n",
      "ocupinf: 3 subniveles\n",
      "zonas: 2 subniveles\n"
     ]
    }
   ],
   "source": [
    "#filtrando las variables categóricas\n",
    "cols_cat = df.select_dtypes(include='object')\n",
    "#verificando subniveles en variables categóricas\n",
    "for i, col in enumerate(cols_cat):\n",
    "    print(f'{col}: {cols_cat[col].nunique()} subniveles')"
   ]
  },
  {
   "cell_type": "code",
   "execution_count": 54,
   "metadata": {},
   "outputs": [
    {
     "data": {
      "text/html": [
       "<div>\n",
       "<style scoped>\n",
       "    .dataframe tbody tr th:only-of-type {\n",
       "        vertical-align: middle;\n",
       "    }\n",
       "\n",
       "    .dataframe tbody tr th {\n",
       "        vertical-align: top;\n",
       "    }\n",
       "\n",
       "    .dataframe thead th {\n",
       "        text-align: right;\n",
       "    }\n",
       "</style>\n",
       "<table border=\"1\" class=\"dataframe\">\n",
       "  <thead>\n",
       "    <tr style=\"text-align: right;\">\n",
       "      <th></th>\n",
       "      <th>ubigeo</th>\n",
       "      <th>ingreso_total</th>\n",
       "      <th>fact_expan_ingresos_empleo</th>\n",
       "    </tr>\n",
       "  </thead>\n",
       "  <tbody>\n",
       "    <tr>\n",
       "      <th>count</th>\n",
       "      <td>72398.000000</td>\n",
       "      <td>72398.000000</td>\n",
       "      <td>72398.000000</td>\n",
       "    </tr>\n",
       "    <tr>\n",
       "      <th>mean</th>\n",
       "      <td>132316.707243</td>\n",
       "      <td>891.182174</td>\n",
       "      <td>277.395729</td>\n",
       "    </tr>\n",
       "    <tr>\n",
       "      <th>std</th>\n",
       "      <td>66892.378062</td>\n",
       "      <td>900.242193</td>\n",
       "      <td>272.365116</td>\n",
       "    </tr>\n",
       "    <tr>\n",
       "      <th>min</th>\n",
       "      <td>10101.000000</td>\n",
       "      <td>4.000000</td>\n",
       "      <td>1.914451</td>\n",
       "    </tr>\n",
       "    <tr>\n",
       "      <th>25%</th>\n",
       "      <td>80205.000000</td>\n",
       "      <td>250.000000</td>\n",
       "      <td>106.267952</td>\n",
       "    </tr>\n",
       "    <tr>\n",
       "      <th>50%</th>\n",
       "      <td>140118.000000</td>\n",
       "      <td>950.000000</td>\n",
       "      <td>192.636780</td>\n",
       "    </tr>\n",
       "    <tr>\n",
       "      <th>75%</th>\n",
       "      <td>180301.000000</td>\n",
       "      <td>950.000000</td>\n",
       "      <td>337.153381</td>\n",
       "    </tr>\n",
       "    <tr>\n",
       "      <th>max</th>\n",
       "      <td>250401.000000</td>\n",
       "      <td>25000.000000</td>\n",
       "      <td>2210.281982</td>\n",
       "    </tr>\n",
       "  </tbody>\n",
       "</table>\n",
       "</div>"
      ],
      "text/plain": [
       "              ubigeo  ingreso_total  fact_expan_ingresos_empleo\n",
       "count   72398.000000   72398.000000                72398.000000\n",
       "mean   132316.707243     891.182174                  277.395729\n",
       "std     66892.378062     900.242193                  272.365116\n",
       "min     10101.000000       4.000000                    1.914451\n",
       "25%     80205.000000     250.000000                  106.267952\n",
       "50%    140118.000000     950.000000                  192.636780\n",
       "75%    180301.000000     950.000000                  337.153381\n",
       "max    250401.000000   25000.000000                 2210.281982"
      ]
     },
     "execution_count": 54,
     "metadata": {},
     "output_type": "execute_result"
    }
   ],
   "source": [
    "#verificando un solo valor en variables numericas\n",
    "df.describe()"
   ]
  },
  {
   "cell_type": "markdown",
   "metadata": {},
   "source": [
    "📌 graficando la variable 'ingreso_total' para verificar la distribución de los datos"
   ]
  },
  {
   "cell_type": "code",
   "execution_count": 55,
   "metadata": {},
   "outputs": [
    {
     "data": {
      "text/plain": [
       "Text(0.5, 0, 'Ingreso total mensual')"
      ]
     },
     "execution_count": 55,
     "metadata": {},
     "output_type": "execute_result"
    },
    {
     "data": {
      "image/png": "[encoded data removed]",
      "text/plain": [
       "<Figure size 1500x500 with 1 Axes>"
      ]
     },
     "metadata": {},
     "output_type": "display_data"
    }
   ],
   "source": [
    "plt.figure(figsize=(15,5))\n",
    "sns.boxplot(x='ingreso_total', data=df, palette = 'Set2')\n",
    "plt.xlabel('Ingreso total mensual')\n"
   ]
  },
  {
   "cell_type": "markdown",
   "metadata": {},
   "source": [
    "📌 Analizamos las variables categóricas "
   ]
  },
  {
   "cell_type": "code",
   "execution_count": 56,
   "metadata": {},
   "outputs": [
    {
     "data": {
      "image/png": "[encoded data removed]",
      "text/plain": [
       "<Figure size 1400x2800 with 13 Axes>"
      ]
     },
     "metadata": {},
     "output_type": "display_data"
    }
   ],
   "source": [
    "#seleccionamos solo las variables categóricas\n",
    "cols_cat = df.select_dtypes(include=['object'])\n",
    "\n",
    "# Definimos el número de filas y columnas de acuerdo con el número de variables categóricas\n",
    "num_vars = len(cols_cat.columns)\n",
    "num_rows = (num_vars // 2) + (num_vars % 2)  # Dos gráficos por fila\n",
    "\n",
    "# Creamos los subplots\n",
    "fig, axes = plt.subplots(nrows=num_rows, ncols=2, figsize=(14, num_rows * 4))\n",
    "fig.subplots_adjust(hspace=0.5)\n",
    "\n",
    "# Aplanamos el array de axes en caso de que haya más de 1 fila/columna\n",
    "axes = axes.flatten()\n",
    "\n",
    "# Recorremos las columnas categóricas y graficamos\n",
    "for i, col in enumerate(cols_cat.columns):\n",
    "    sns.countplot(x=col, data=df, ax=axes[i], palette='Set2')\n",
    "    axes[i].set_title(col)\n",
    "    axes[i].set_xticklabels(axes[i].get_xticklabels(), rotation=30)\n",
    "\n",
    "# Si hay más subplots de los necesarios, los desactivamos\n",
    "for j in range(i + 1, len(axes)):\n",
    "    fig.delaxes(axes[j])\n",
    "\n",
    "# Ajustamos la visualización\n",
    "plt.tight_layout()\n",
    "plt.show()"
   ]
  },
  {
   "cell_type": "markdown",
   "metadata": {},
   "source": [
    "🎯 verificamos el promedio de ingresos por zona"
   ]
  },
  {
   "cell_type": "code",
   "execution_count": 57,
   "metadata": {},
   "outputs": [
    {
     "data": {
      "text/plain": [
       "zonas\n",
       "rural      317.376874\n",
       "urbano    1111.306278\n",
       "Name: ingreso_total, dtype: float64"
      ]
     },
     "execution_count": 57,
     "metadata": {},
     "output_type": "execute_result"
    }
   ],
   "source": [
    "df.groupby(df['zonas'])['ingreso_total'].mean()"
   ]
  },
  {
   "cell_type": "code",
   "execution_count": 58,
   "metadata": {},
   "outputs": [
    {
     "data": {
      "text/html": [
       "<div>\n",
       "<style scoped>\n",
       "    .dataframe tbody tr th:only-of-type {\n",
       "        vertical-align: middle;\n",
       "    }\n",
       "\n",
       "    .dataframe tbody tr th {\n",
       "        vertical-align: top;\n",
       "    }\n",
       "\n",
       "    .dataframe thead th {\n",
       "        text-align: right;\n",
       "    }\n",
       "</style>\n",
       "<table border=\"1\" class=\"dataframe\">\n",
       "  <thead>\n",
       "    <tr style=\"text-align: right;\">\n",
       "      <th></th>\n",
       "      <th>mes</th>\n",
       "      <th>ubigeo</th>\n",
       "      <th>dominio</th>\n",
       "      <th>estrato</th>\n",
       "      <th>empleo_fijo</th>\n",
       "      <th>negocio_propio</th>\n",
       "      <th>ocupacion_principal</th>\n",
       "      <th>trabajo_ocup_principal</th>\n",
       "      <th>registro_sunat</th>\n",
       "      <th>sueldo_ingresos</th>\n",
       "      <th>honorarios_ingresos</th>\n",
       "      <th>no_recibe_ingresos</th>\n",
       "      <th>tipo_contrato</th>\n",
       "      <th>ingreso_total</th>\n",
       "      <th>ocupinf</th>\n",
       "      <th>fact_expan_ingresos_empleo</th>\n",
       "      <th>zonas</th>\n",
       "    </tr>\n",
       "  </thead>\n",
       "  <tbody>\n",
       "    <tr>\n",
       "      <th>0</th>\n",
       "      <td>Enero</td>\n",
       "      <td>10101</td>\n",
       "      <td>Sierra Norte</td>\n",
       "      <td>20,000 a 49,999</td>\n",
       "      <td>missing value</td>\n",
       "      <td>missing value</td>\n",
       "      <td>independiente</td>\n",
       "      <td>missing value</td>\n",
       "      <td>no está registrado</td>\n",
       "      <td>otro</td>\n",
       "      <td>otro</td>\n",
       "      <td>otro</td>\n",
       "      <td>missing value</td>\n",
       "      <td>950.0</td>\n",
       "      <td>empleo formal</td>\n",
       "      <td>73.243919</td>\n",
       "      <td>urbano</td>\n",
       "    </tr>\n",
       "    <tr>\n",
       "      <th>1</th>\n",
       "      <td>Enero</td>\n",
       "      <td>10101</td>\n",
       "      <td>Sierra Norte</td>\n",
       "      <td>20,000 a 49,999</td>\n",
       "      <td>missing value</td>\n",
       "      <td>missing value</td>\n",
       "      <td>no remunerado</td>\n",
       "      <td>missing value</td>\n",
       "      <td>no está registrado</td>\n",
       "      <td>otro</td>\n",
       "      <td>otro</td>\n",
       "      <td>no recibe ingresos</td>\n",
       "      <td>otro</td>\n",
       "      <td>950.0</td>\n",
       "      <td>empleo formal</td>\n",
       "      <td>111.098007</td>\n",
       "      <td>urbano</td>\n",
       "    </tr>\n",
       "    <tr>\n",
       "      <th>3</th>\n",
       "      <td>Enero</td>\n",
       "      <td>10101</td>\n",
       "      <td>Sierra Norte</td>\n",
       "      <td>20,000 a 49,999</td>\n",
       "      <td>missing value</td>\n",
       "      <td>missing value</td>\n",
       "      <td>empleado</td>\n",
       "      <td>empresa privada</td>\n",
       "      <td>persona natural</td>\n",
       "      <td>si recibe</td>\n",
       "      <td>otro</td>\n",
       "      <td>otro</td>\n",
       "      <td>plazo fijo</td>\n",
       "      <td>956.0</td>\n",
       "      <td>empleo informal</td>\n",
       "      <td>111.098007</td>\n",
       "      <td>urbano</td>\n",
       "    </tr>\n",
       "    <tr>\n",
       "      <th>4</th>\n",
       "      <td>Enero</td>\n",
       "      <td>10101</td>\n",
       "      <td>Sierra Norte</td>\n",
       "      <td>20,000 a 49,999</td>\n",
       "      <td>missing value</td>\n",
       "      <td>missing value</td>\n",
       "      <td>empleado</td>\n",
       "      <td>empresa privada</td>\n",
       "      <td>persona natural</td>\n",
       "      <td>si recibe</td>\n",
       "      <td>otro</td>\n",
       "      <td>otro</td>\n",
       "      <td>otro</td>\n",
       "      <td>900.0</td>\n",
       "      <td>empleo formal</td>\n",
       "      <td>93.555817</td>\n",
       "      <td>urbano</td>\n",
       "    </tr>\n",
       "    <tr>\n",
       "      <th>5</th>\n",
       "      <td>Enero</td>\n",
       "      <td>10101</td>\n",
       "      <td>Sierra Norte</td>\n",
       "      <td>20,000 a 49,999</td>\n",
       "      <td>no tiene</td>\n",
       "      <td>no tiene</td>\n",
       "      <td>missing value</td>\n",
       "      <td>missing value</td>\n",
       "      <td>missing value</td>\n",
       "      <td>missing value</td>\n",
       "      <td>missing value</td>\n",
       "      <td>missing value</td>\n",
       "      <td>missing value</td>\n",
       "      <td>950.0</td>\n",
       "      <td>missing value</td>\n",
       "      <td>111.098007</td>\n",
       "      <td>urbano</td>\n",
       "    </tr>\n",
       "  </tbody>\n",
       "</table>\n",
       "</div>"
      ],
      "text/plain": [
       "     mes  ubigeo       dominio          estrato    empleo_fijo negocio_propio  \\\n",
       "0  Enero   10101  Sierra Norte  20,000 a 49,999  missing value  missing value   \n",
       "1  Enero   10101  Sierra Norte  20,000 a 49,999  missing value  missing value   \n",
       "3  Enero   10101  Sierra Norte  20,000 a 49,999  missing value  missing value   \n",
       "4  Enero   10101  Sierra Norte  20,000 a 49,999  missing value  missing value   \n",
       "5  Enero   10101  Sierra Norte  20,000 a 49,999       no tiene       no tiene   \n",
       "\n",
       "  ocupacion_principal trabajo_ocup_principal      registro_sunat  \\\n",
       "0       independiente          missing value  no está registrado   \n",
       "1       no remunerado          missing value  no está registrado   \n",
       "3            empleado        empresa privada     persona natural   \n",
       "4            empleado        empresa privada     persona natural   \n",
       "5       missing value          missing value       missing value   \n",
       "\n",
       "  sueldo_ingresos honorarios_ingresos  no_recibe_ingresos  tipo_contrato  \\\n",
       "0            otro                otro                otro  missing value   \n",
       "1            otro                otro  no recibe ingresos           otro   \n",
       "3       si recibe                otro                otro     plazo fijo   \n",
       "4       si recibe                otro                otro           otro   \n",
       "5   missing value       missing value       missing value  missing value   \n",
       "\n",
       "   ingreso_total          ocupinf  fact_expan_ingresos_empleo   zonas  \n",
       "0          950.0    empleo formal                   73.243919  urbano  \n",
       "1          950.0    empleo formal                  111.098007  urbano  \n",
       "3          956.0  empleo informal                  111.098007  urbano  \n",
       "4          900.0    empleo formal                   93.555817  urbano  \n",
       "5          950.0    missing value                  111.098007  urbano  "
      ]
     },
     "execution_count": 58,
     "metadata": {},
     "output_type": "execute_result"
    }
   ],
   "source": [
    "df.head()"
   ]
  },
  {
   "cell_type": "markdown",
   "metadata": {},
   "source": [
    "* RESUMEN\n",
    "\n",
    "✅ Limpieza de Datos:\n",
    "\n",
    "    📌 Se eliminaron 19,696 filas duplicadas, quedando con 72,398 registros.\n",
    "\n",
    "    📌 Se eliminó un valor nulo en la columna tipo_contrato, dejando el conjunto sin valores nulos.\n",
    "\n",
    "✅ Análisis de Variables:\n",
    "\n",
    "    📌 Las variables categóricas tienen entre 2 y 8 subniveles, con amplia diversidad en dominio, estrato y tipo_contrato.\n",
    "\n",
    "    📌 La variable ingreso_total presenta valores atípicos con una media de 891.18 y un máximo de 25,000.\n",
    "\n",
    "✅ Visualización:\n",
    "\n",
    "    📌 Se usaron gráficos para observar la dispersión de ingreso_total y la distribución de cada variable categórica.\n",
    "\n",
    "✅ Ingreso por Zona:\n",
    "\n",
    "    📌En promedio, los ingresos en zonas rurales son de 317.38, mientras que en zonas urbanas alcanzan los 1,111.31, evidenciando una fuerte disparidad."
   ]
  },
  {
   "cell_type": "markdown",
   "metadata": {},
   "source": [
    "* Resumen de habilidades usadas:\n",
    "\n",
    "✅ *1. Calidad de Datos:* Se Identificó y eliminó duplicados y valores nulos, asegurando precisión en el análisis.\n",
    "\n",
    "✅ *2. Análisis Detallado:* Se Exploró y resumió tanto variables categóricas como numéricas, mostrando habilidad para identificar patrones clave.\n",
    "\n",
    "✅ *3. Visualización Efectiva:* Se usó gráficos para detectar valores atípicos y comunicar tendencias complejas, facilitando la interpretación de datos.\n",
    "\n",
    "✅ *4. Agrupación y Comparación:* Al calcular promedios de ingreso por zona, se resaltó desigualdades significativas, destacando capacidad de análisis comparativo.\n",
    "\n",
    "✅ *5. Insights Clave:* El enfoque en la disparidad de ingresos rurales y urbanos demuestra pensamiento crítico orientado a resultados útiles en un contexto socioeconómico."
   ]
  },
  {
   "cell_type": "markdown",
   "metadata": {},
   "source": [
    "🎯 Elije la ruta donde vas a guardar tu data"
   ]
  },
  {
   "cell_type": "code",
   "execution_count": 59,
   "metadata": {},
   "outputs": [],
   "source": [
    "#guardamos la data para pasar al análisis exploratorio\n",
    "ruta = ('C:\\\\Users\\\\LENOVO\\\\Desktop\\\\Projects\\\\Peru-Poverty-2019\\\\data2019-500-limpia.csv')\n",
    "\n",
    "df.to_csv(ruta,index=False)"
   ]
  }
 ],
 "metadata": {
  "kernelspec": {
   "display_name": "base",
   "language": "python",
   "name": "python3"
  },
  "language_info": {
   "codemirror_mode": {
    "name": "ipython",
    "version": 3
   },
   "file_extension": ".py",
   "mimetype": "text/x-python",
   "name": "python",
   "nbconvert_exporter": "python",
   "pygments_lexer": "ipython3",
   "version": "3.12.4"
  }
 },
 "nbformat": 4,
 "nbformat_minor": 2
}
