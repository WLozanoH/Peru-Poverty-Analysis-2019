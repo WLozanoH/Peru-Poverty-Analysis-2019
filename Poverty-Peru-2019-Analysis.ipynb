{
 "cells": [
  {
   "cell_type": "markdown",
   "metadata": {},
   "source": [
    "# \"Análisis Integral de la Pobreza en Perú: Un Estudio de 2019\""
   ]
  },
  {
   "cell_type": "markdown",
   "metadata": {},
   "source": [
    "# Introducción\n",
    "\n",
    "El proyecto \"Análisis Integral de la Pobreza en Perú: Un Estudio de 2019\", se centra en un análisis exhaustivo de la pobreza en Perú durante el año 2019. Utiliza técnicas de ciencia de datos para explorar diversas variables relacionadas con la pobreza, como ingresos, empleo y estratificación socioeconómica. El análisis incluye la visualización de datos y la evaluación de indicadores clave, buscando identificar patrones y correlaciones que puedan contribuir a una mejor comprensión de la situación de la pobreza en el país. Este trabajo es fundamental para formular políticas más efectivas y orientadas a la reducción de la pobreza."
   ]
  },
  {
   "cell_type": "code",
   "execution_count": 1,
   "metadata": {},
   "outputs": [],
   "source": [
    "#Importamos las librerías necesarias\n",
    "import pandas as pd\n",
    "import matplotlib.pyplot as plt\n",
    "import seaborn as sns\n",
    "import numpy as np\n",
    "import warnings\n",
    "warnings.filterwarnings('ignore')"
   ]
  },
  {
   "cell_type": "markdown",
   "metadata": {},
   "source": [
    "📌 Puedes descargar la data procesada aquí: 👇👇\n",
    "\n",
    "✅ https://github.com/WLozanoH/Peru-Poverty-Analysis-2019/blob/main/data2019-500-limpia.csv\n",
    "\n",
    "📌 Puedes ver los pasos para la limpieza de los datos aquí: 👇👇\n",
    "\n",
    "✅ https://github.com/WLozanoH/Peru-Poverty-Analysis-2019/blob/main/Cleaning-data-2019-500.ipynb"
   ]
  },
  {
   "cell_type": "code",
   "execution_count": 2,
   "metadata": {},
   "outputs": [
    {
     "name": "stdout",
     "output_type": "stream",
     "text": [
      "<class 'pandas.core.frame.DataFrame'>\n",
      "RangeIndex: 72398 entries, 0 to 72397\n",
      "Data columns (total 17 columns):\n",
      " #   Column                      Non-Null Count  Dtype  \n",
      "---  ------                      --------------  -----  \n",
      " 0   mes                         72398 non-null  object \n",
      " 1   ubigeo                      72398 non-null  int64  \n",
      " 2   dominio                     72398 non-null  object \n",
      " 3   estrato                     72398 non-null  object \n",
      " 4   empleo_fijo                 72398 non-null  object \n",
      " 5   negocio_propio              72398 non-null  object \n",
      " 6   ocupacion_principal         72398 non-null  object \n",
      " 7   trabajo_ocup_principal      72398 non-null  object \n",
      " 8   registro_sunat              72398 non-null  object \n",
      " 9   sueldo_ingresos             72398 non-null  object \n",
      " 10  honorarios_ingresos         72398 non-null  object \n",
      " 11  no_recibe_ingresos          72398 non-null  object \n",
      " 12  tipo_contrato               72398 non-null  object \n",
      " 13  ingreso_total               72398 non-null  float64\n",
      " 14  ocupinf                     72398 non-null  object \n",
      " 15  fact_expan_ingresos_empleo  72398 non-null  float64\n",
      " 16  zonas                       72398 non-null  object \n",
      "dtypes: float64(2), int64(1), object(14)\n",
      "memory usage: 9.4+ MB\n"
     ]
    }
   ],
   "source": [
    "#cargamos la data\n",
    "df = pd.read_csv('data2019-500-limpia.csv')\n",
    "df.info()"
   ]
  },
  {
   "cell_type": "markdown",
   "metadata": {},
   "source": [
    "# Análisis de Pobreza por:"
   ]
  },
  {
   "cell_type": "markdown",
   "metadata": {},
   "source": [
    "# 1. Análisis de Ingresos\n",
    "\n",
    "* Variables clave: 'sueldo_ingresos'\n",
    "\n",
    "* Objetivo: Comparar los ingresos de los hogares con las líneas de pobreza establecidas por el INEI para 2019.\n",
    "\n",
    "        Acción: Comparar el ingreso_total de cada hogar con la línea de pobreza y pobreza extrema (que varían por zonas urbanas y rurales) para determinar cuántos hogares están por debajo de la línea de pobreza.\n",
    "\n",
    "👉 Según INEI(Instituto nacional de estadística e informática):\n",
    "\n",
    "📌 Línea de pobreza (2019):\n",
    "\n",
    "        Nacional: S/ 338 per cápita mensual.\n",
    "        Urbano: S/ 397 per cápita mensual.\n",
    "        Rural: S/ 251 per cápita mensual.\n",
    "\n",
    "📌 Línea de pobreza extrema (2019):\n",
    "\n",
    "        Nacional: S/ 163 per cápita mensual.\n",
    "        Urbano: S/ 199 per cápita mensual.\n",
    "        Rural: S/ 123 per cápita mensual."
   ]
  },
  {
   "cell_type": "code",
   "execution_count": 3,
   "metadata": {},
   "outputs": [
    {
     "data": {
      "text/html": [
       "<div>\n",
       "<style scoped>\n",
       "    .dataframe tbody tr th:only-of-type {\n",
       "        vertical-align: middle;\n",
       "    }\n",
       "\n",
       "    .dataframe tbody tr th {\n",
       "        vertical-align: top;\n",
       "    }\n",
       "\n",
       "    .dataframe thead th {\n",
       "        text-align: right;\n",
       "    }\n",
       "</style>\n",
       "<table border=\"1\" class=\"dataframe\">\n",
       "  <thead>\n",
       "    <tr style=\"text-align: right;\">\n",
       "      <th></th>\n",
       "      <th>mes</th>\n",
       "      <th>ubigeo</th>\n",
       "      <th>dominio</th>\n",
       "      <th>estrato</th>\n",
       "      <th>empleo_fijo</th>\n",
       "      <th>negocio_propio</th>\n",
       "      <th>ocupacion_principal</th>\n",
       "      <th>trabajo_ocup_principal</th>\n",
       "      <th>registro_sunat</th>\n",
       "      <th>sueldo_ingresos</th>\n",
       "      <th>honorarios_ingresos</th>\n",
       "      <th>no_recibe_ingresos</th>\n",
       "      <th>tipo_contrato</th>\n",
       "      <th>ingreso_total</th>\n",
       "      <th>ocupinf</th>\n",
       "      <th>fact_expan_ingresos_empleo</th>\n",
       "      <th>zonas</th>\n",
       "    </tr>\n",
       "  </thead>\n",
       "  <tbody>\n",
       "    <tr>\n",
       "      <th>0</th>\n",
       "      <td>Enero</td>\n",
       "      <td>10101</td>\n",
       "      <td>Sierra Norte</td>\n",
       "      <td>20,000 a 49,999</td>\n",
       "      <td>missing value</td>\n",
       "      <td>missing value</td>\n",
       "      <td>independiente</td>\n",
       "      <td>missing value</td>\n",
       "      <td>no está registrado</td>\n",
       "      <td>otro</td>\n",
       "      <td>otro</td>\n",
       "      <td>otro</td>\n",
       "      <td>missing value</td>\n",
       "      <td>950.0</td>\n",
       "      <td>empleo formal</td>\n",
       "      <td>73.243919</td>\n",
       "      <td>urbano</td>\n",
       "    </tr>\n",
       "    <tr>\n",
       "      <th>1</th>\n",
       "      <td>Enero</td>\n",
       "      <td>10101</td>\n",
       "      <td>Sierra Norte</td>\n",
       "      <td>20,000 a 49,999</td>\n",
       "      <td>missing value</td>\n",
       "      <td>missing value</td>\n",
       "      <td>no remunerado</td>\n",
       "      <td>missing value</td>\n",
       "      <td>no está registrado</td>\n",
       "      <td>otro</td>\n",
       "      <td>otro</td>\n",
       "      <td>no recibe ingresos</td>\n",
       "      <td>otro</td>\n",
       "      <td>950.0</td>\n",
       "      <td>empleo formal</td>\n",
       "      <td>111.098007</td>\n",
       "      <td>urbano</td>\n",
       "    </tr>\n",
       "  </tbody>\n",
       "</table>\n",
       "</div>"
      ],
      "text/plain": [
       "     mes  ubigeo       dominio          estrato    empleo_fijo negocio_propio  \\\n",
       "0  Enero   10101  Sierra Norte  20,000 a 49,999  missing value  missing value   \n",
       "1  Enero   10101  Sierra Norte  20,000 a 49,999  missing value  missing value   \n",
       "\n",
       "  ocupacion_principal trabajo_ocup_principal      registro_sunat  \\\n",
       "0       independiente          missing value  no está registrado   \n",
       "1       no remunerado          missing value  no está registrado   \n",
       "\n",
       "  sueldo_ingresos honorarios_ingresos  no_recibe_ingresos  tipo_contrato  \\\n",
       "0            otro                otro                otro  missing value   \n",
       "1            otro                otro  no recibe ingresos           otro   \n",
       "\n",
       "   ingreso_total        ocupinf  fact_expan_ingresos_empleo   zonas  \n",
       "0          950.0  empleo formal                   73.243919  urbano  \n",
       "1          950.0  empleo formal                  111.098007  urbano  "
      ]
     },
     "execution_count": 3,
     "metadata": {},
     "output_type": "execute_result"
    }
   ],
   "source": [
    "df.head(2)"
   ]
  },
  {
   "cell_type": "markdown",
   "metadata": {},
   "source": [
    "* Trabajamos en el dataframe 'df'"
   ]
  },
  {
   "cell_type": "code",
   "execution_count": 4,
   "metadata": {},
   "outputs": [
    {
     "name": "stdout",
     "output_type": "stream",
     "text": [
      "Según los ingresos:\n",
      "Recuento de Pobreza total:\n",
      "estado_pobreza\n",
      "No pobre           48834\n",
      "Pobreza            19384\n",
      "Pobreza extrema     4180\n",
      "Name: count, dtype: int64\n",
      "----------------------------\n",
      "Porcentaje de Pobreza total:\n",
      "estado_pobreza\n",
      "No pobre           67.45214\n",
      "Pobreza            26.77422\n",
      "Pobreza extrema     5.77364\n",
      "Name: count, dtype: float64\n"
     ]
    },
    {
     "data": {
      "image/png": "[encoded data removed]",
      "text/plain": [
       "<Figure size 1500x500 with 1 Axes>"
      ]
     },
     "metadata": {},
     "output_type": "display_data"
    }
   ],
   "source": [
    "# paso 1: Definir la línea de pobreza\n",
    "lineas_pobreza = {\n",
    "    \n",
    "    'urbano': {'pobreza': 397, 'pobreza extrema': 199},\n",
    "    'rural': {'pobreza': 251, 'pobreza extrema': 123}\n",
    "}\n",
    "\n",
    "#Paso 2: crear una función para clasificar a los hogares \n",
    "def clasificar_hogares(row):\n",
    "    if row['zonas'] == 'urbano':\n",
    "        linea_pobreza = lineas_pobreza['urbano']['pobreza']\n",
    "        linea_pobreza_extrema = lineas_pobreza['urbano']['pobreza extrema']\n",
    "    else:\n",
    "        linea_pobreza = lineas_pobreza['rural']['pobreza']\n",
    "        linea_pobreza_extrema = lineas_pobreza['rural']['pobreza extrema']\n",
    "\n",
    "    if row['ingreso_total'] < linea_pobreza_extrema:\n",
    "        return 'Pobreza extrema'\n",
    "    \n",
    "    elif row['ingreso_total'] < linea_pobreza:\n",
    "        return 'Pobreza'\n",
    "    else:\n",
    "        return 'No pobre'\n",
    "\n",
    "\n",
    "#Paso 3: Aplicar la función:\n",
    "df['estado_pobreza'] = df.apply(clasificar_hogares, axis=1)\n",
    "\n",
    "#Paso 5: Imprimir resumen de la cantidad total de pobreza y porcentaje\n",
    "pobreza_conteo = df['estado_pobreza'].value_counts()\n",
    "pobreza_porcentaje = df['estado_pobreza'].value_counts() /df['estado_pobreza'].shape[0] *100\n",
    "\n",
    "print(\"Según los ingresos:\")\n",
    "print(f\"Recuento de Pobreza total:\\n{pobreza_conteo}\")\n",
    "print('----------------------------')\n",
    "print(f\"Porcentaje de Pobreza total:\\n{pobreza_porcentaje}\")\n",
    "\n",
    "#paso 6: graficar resultados\n",
    "plt.figure(figsize=(15,5))\n",
    "sns.countplot(x='estado_pobreza', data=df, palette='Set1')\n",
    "plt.title(\"Análisis de Ingresos: Clasificación de Hogares por Estado de Pobreza\", fontsize = 15)\n",
    "plt.xlabel('Estado de Pobreza', fontsize = 12)\n",
    "plt.ylabel('Numero de hogares', fontsize = 12)\n",
    "\n",
    "#mostrar la gráfica\n",
    "plt.show()"
   ]
  },
  {
   "cell_type": "markdown",
   "metadata": {},
   "source": [
    "📌 *Conclusiones sobre Análisis de pobreza según ingresos:*\n",
    "\n",
    "1. *Mayoría no pobre:* El 67.45% de los hogares tiene ingresos por encima de la línea de pobreza.\n",
    "2. *Alta incidencia de pobreza:* El 26.77% de los hogares vive por debajo de la línea de pobreza, mostrando una vulnerabilidad considerable.\n",
    "3. *Pobreza extrema significativa:* El 5.77% de los hogares se encuentra en pobreza extrema, lo que refleja una situación crítica para este grupo.\n",
    "\n",
    "* *Insight Clave*\n",
    "\n",
    "        El 32.54% de los hogares vive en condiciones de pobreza o pobreza extrema, subrayando la \n",
    "        necesidad urgente de políticas focalizadas para mejorar la situación de estos grupos vulnerables.\n"
   ]
  },
  {
   "cell_type": "code",
   "execution_count": 5,
   "metadata": {},
   "outputs": [],
   "source": [
    "#crear una variable que agrupe las personas que reciben ingresos vs las que no y las que estan en zona de pobreza"
   ]
  },
  {
   "cell_type": "markdown",
   "metadata": {},
   "source": [
    "# 2. Análisis de Empleo y Calidad del Trabajo\n",
    "\n",
    "* Variables clave: 'empleo_fijo', 'negocio_propio', 'ocupacion_principal', 'trabajo_ocup_principal', 'tipo_contrato', 'registro_sunat'.\n",
    "* Objetivo: Determinar la relación entre el tipo de empleo y la pobreza.\n",
    "\n",
    "        Acción: Agrupa a las personas por tipo de empleo (empleo_fijo, negocio_propio) y relación laboral (tipo_contrato, registro_sunat). Compara sus ingresos medios y su incidencia de pobreza."
   ]
  },
  {
   "cell_type": "markdown",
   "metadata": {},
   "source": [
    "Paso 1: Crear categorías de empleo y tipo de relación laboral"
   ]
  },
  {
   "cell_type": "code",
   "execution_count": 6,
   "metadata": {},
   "outputs": [],
   "source": [
    "# Paso 1: Crear categorías de empleo y tipo de relación laboral\n",
    "\n",
    "#agrupar a las personas por 'tipo de empleo' (empleo_fijo, negocio_propio)\n",
    "#crear una columna de 'tipo_empleo'\n",
    "df['tipo_empleo'] = np.where(df['empleo_fijo'] == 'tiene', 'empleo_fijo',\n",
    "                                     np.where(df['negocio_propio'] ==  'tiene', 'negocio_propio', 'otro'))\n",
    "\n",
    "# Crear una columna de 'tipo_relacion_laboral'\n",
    "df['tipo_relacion_laboral'] = np.where(df['registro_sunat'] == 'persona jurídica', 'formal',\n",
    "                                               np.where(df['registro_sunat'] == 'persona natural', 'formal', 'informal'))"
   ]
  },
  {
   "cell_type": "code",
   "execution_count": 7,
   "metadata": {},
   "outputs": [
    {
     "name": "stdout",
     "output_type": "stream",
     "text": [
      "Conteo: tipo_empleo\n",
      "otro              71157\n",
      "empleo_fijo         844\n",
      "negocio_propio      397\n",
      "Name: count, dtype: int64\n",
      "----------------\n",
      "Porcentaje: tipo_empleo\n",
      "otro              98.285864\n",
      "empleo_fijo        1.165778\n",
      "negocio_propio     0.548358\n",
      "Name: count, dtype: float64\n",
      "----------------\n",
      "----------------\n",
      "Conteo: tipo_relacion_laboral\n",
      "informal    55716\n",
      "formal      16682\n",
      "Name: count, dtype: int64\n",
      "----------------\n",
      "Porcentaje: tipo_relacion_laboral\n",
      "informal    76.957927\n",
      "formal      23.042073\n",
      "Name: count, dtype: float64\n"
     ]
    }
   ],
   "source": [
    "#chekeamos los valores\n",
    "print('Conteo:',df['tipo_empleo'].value_counts())\n",
    "print('----------------')\n",
    "print('Porcentaje:',(df['tipo_empleo'].value_counts()/df.shape[0])*100)\n",
    "print('----------------')\n",
    "print('----------------')\n",
    "print('Conteo:',df['tipo_relacion_laboral'].value_counts())\n",
    "print('----------------')\n",
    "print('Porcentaje:',(df['tipo_relacion_laboral'].value_counts()/df.shape[0])*100)"
   ]
  },
  {
   "cell_type": "markdown",
   "metadata": {},
   "source": [
    "Paso 2: Calcular ingresos promedio por tipo de empleo y relación laboral\n",
    "\n",
    "    Calcular los ingresos medios según el tipo de empleo y relación laboral.\n",
    "    calcular la incidencia de pobreza comparando los ingresos con una línea de pobreza establecida.\n",
    "    \n",
    "    Según INEI:\n",
    "    📌 Línea de pobreza (2019):\n",
    "\n",
    "        Nacional: S/ 338 per cápita mensual."
   ]
  },
  {
   "cell_type": "code",
   "execution_count": null,
   "metadata": {},
   "outputs": [
    {
     "name": "stdout",
     "output_type": "stream",
     "text": [
      "Análisis de la pobreza según el tipo de empleo y tipo de relación laboral:\n",
      "\n",
      "      tipo_empleo tipo_relacion_laboral  ingresos_promedio  tasa_pobreza\n",
      "0     empleo_fijo                formal        1831.400000      0.063889\n",
      "1     empleo_fijo              informal        2311.134298      0.030992\n",
      "2  negocio_propio                formal         903.333333      0.066667\n",
      "3  negocio_propio              informal         528.474114      0.602180\n",
      "4            otro                formal        1150.768721      0.171679\n",
      "5            otro              informal         797.822656      0.371184\n"
     ]
    }
   ],
   "source": [
    "#Paso 3: Calcular ingresos promedio por tipo de empleo y relación laboral\n",
    "\n",
    "# Definir una línea de pobreza\n",
    "linea_pobreza = 338\n",
    "\n",
    "# Crear una columna binaria para identificar si están por debajo de la línea de pobreza\n",
    "df['es_pobre'] = df['ingreso_total'] < linea_pobreza\n",
    "\n",
    "#agrupar por 'tipo_empleo' y 'tipo_relacion_laboral', calcular los ingresos medios y la tasa de pobreza\n",
    "resumen_empleo = df.groupby(['tipo_empleo','tipo_relacion_laboral']).agg(\n",
    "    ingresos_promedio = ('ingreso_total','mean'),\n",
    "    tasa_pobreza = ('es_pobre','mean')\n",
    "    \n",
    ").reset_index()\n",
    "\n",
    "print(f\"Análisis de la pobreza según el tipo de empleo y tipo de relación laboral:\\n\\n{resumen_empleo}\")\n"
   ]
  },
  {
   "cell_type": "markdown",
   "metadata": {},
   "source": [
    "Paso 3: Visualización de resultados\n",
    "\n",
    "Usamos gráficos para visualizar la relación entre el tipo de empleo, los ingresos medios y la incidencia de pobreza."
   ]
  },
  {
   "cell_type": "code",
   "execution_count": 9,
   "metadata": {},
   "outputs": [
    {
     "data": {
      "image/png": "[encoded data removed]",
      "text/plain": [
       "<Figure size 1500x500 with 2 Axes>"
      ]
     },
     "metadata": {},
     "output_type": "display_data"
    },
    {
     "data": {
      "text/html": [
       "<div>\n",
       "<style scoped>\n",
       "    .dataframe tbody tr th:only-of-type {\n",
       "        vertical-align: middle;\n",
       "    }\n",
       "\n",
       "    .dataframe tbody tr th {\n",
       "        vertical-align: top;\n",
       "    }\n",
       "\n",
       "    .dataframe thead th {\n",
       "        text-align: right;\n",
       "    }\n",
       "</style>\n",
       "<table border=\"1\" class=\"dataframe\">\n",
       "  <thead>\n",
       "    <tr style=\"text-align: right;\">\n",
       "      <th></th>\n",
       "      <th>tipo_empleo</th>\n",
       "      <th>tipo_relacion_laboral</th>\n",
       "      <th>ingresos_promedio</th>\n",
       "      <th>tasa_pobreza</th>\n",
       "      <th>categoria</th>\n",
       "    </tr>\n",
       "  </thead>\n",
       "  <tbody>\n",
       "    <tr>\n",
       "      <th>0</th>\n",
       "      <td>empleo_fijo</td>\n",
       "      <td>formal</td>\n",
       "      <td>1831.400</td>\n",
       "      <td>0.064</td>\n",
       "      <td>empleo_fijo - formal</td>\n",
       "    </tr>\n",
       "    <tr>\n",
       "      <th>1</th>\n",
       "      <td>empleo_fijo</td>\n",
       "      <td>informal</td>\n",
       "      <td>2311.134</td>\n",
       "      <td>0.031</td>\n",
       "      <td>empleo_fijo - informal</td>\n",
       "    </tr>\n",
       "    <tr>\n",
       "      <th>2</th>\n",
       "      <td>negocio_propio</td>\n",
       "      <td>formal</td>\n",
       "      <td>903.333</td>\n",
       "      <td>0.067</td>\n",
       "      <td>negocio_propio - formal</td>\n",
       "    </tr>\n",
       "    <tr>\n",
       "      <th>3</th>\n",
       "      <td>negocio_propio</td>\n",
       "      <td>informal</td>\n",
       "      <td>528.474</td>\n",
       "      <td>0.602</td>\n",
       "      <td>negocio_propio - informal</td>\n",
       "    </tr>\n",
       "    <tr>\n",
       "      <th>4</th>\n",
       "      <td>otro</td>\n",
       "      <td>formal</td>\n",
       "      <td>1150.769</td>\n",
       "      <td>0.172</td>\n",
       "      <td>otro - formal</td>\n",
       "    </tr>\n",
       "    <tr>\n",
       "      <th>5</th>\n",
       "      <td>otro</td>\n",
       "      <td>informal</td>\n",
       "      <td>797.823</td>\n",
       "      <td>0.371</td>\n",
       "      <td>otro - informal</td>\n",
       "    </tr>\n",
       "  </tbody>\n",
       "</table>\n",
       "</div>"
      ],
      "text/plain": [
       "      tipo_empleo tipo_relacion_laboral  ingresos_promedio  tasa_pobreza  \\\n",
       "0     empleo_fijo                formal           1831.400         0.064   \n",
       "1     empleo_fijo              informal           2311.134         0.031   \n",
       "2  negocio_propio                formal            903.333         0.067   \n",
       "3  negocio_propio              informal            528.474         0.602   \n",
       "4            otro                formal           1150.769         0.172   \n",
       "5            otro              informal            797.823         0.371   \n",
       "\n",
       "                   categoria  \n",
       "0       empleo_fijo - formal  \n",
       "1     empleo_fijo - informal  \n",
       "2    negocio_propio - formal  \n",
       "3  negocio_propio - informal  \n",
       "4              otro - formal  \n",
       "5            otro - informal  "
      ]
     },
     "execution_count": 9,
     "metadata": {},
     "output_type": "execute_result"
    }
   ],
   "source": [
    "# Crear una nueva columna para identificar claramente cada categoría\n",
    "resumen_empleo['categoria'] = resumen_empleo['tipo_empleo'] + ' - ' + resumen_empleo['tipo_relacion_laboral']\n",
    "\n",
    "#paso 4: Visualización de resultados\n",
    "# Crear un gráfico de barras para los ingresos promedio y la tasa de pobreza\n",
    "fig, ax1 = plt.subplots(figsize=(15, 5))\n",
    "\n",
    "# Gráfico de ingresos promedio\n",
    "bars1 = ax1.bar(resumen_empleo['categoria'], resumen_empleo['ingresos_promedio'], color='#1f77b4', label='Ingreso promedio', alpha=0.6, width=0.6)\n",
    "\n",
    "# Crear otro eje para la tasa de pobreza\n",
    "ax2 = ax1.twinx()\n",
    "bars2 = ax2.bar(resumen_empleo['categoria'], resumen_empleo['tasa_pobreza'] * 100, color='#ff7f0e', label='Tasa de pobreza (%)', alpha=0.6, align='edge',width=0.6)\n",
    "\n",
    "#Título y etiquetas\n",
    "plt.title('Ingresos y Pobreza según Tipo de Empleo y Relación Laboral', fontsize = 15)\n",
    "ax1.set_ylabel('Ingreso Promedio', fontsize = 12)\n",
    "ax2.set_ylabel('Tasa de Pobreza (%)', fontsize = 12)\n",
    "\n",
    "# Mover la leyenda a una ubicación que no se superponga\n",
    "ax1.legend(loc='upper left')\n",
    "ax2.legend(loc='upper right')\n",
    "\n",
    "# Rotar las etiquetas del eje x para una mejor visibilidad\n",
    "plt.xticks(rotation=45)\n",
    "\n",
    "#ajustar diseño de grafico y mostrar\n",
    "plt.tight_layout()\n",
    "plt.show()\n",
    "\n",
    "resumen_empleo = round(resumen_empleo,3)\n",
    "resumen_empleo"
   ]
  },
  {
   "cell_type": "markdown",
   "metadata": {},
   "source": [
    "📌 Conclusiones:\n",
    "\n",
    "1. Las personas con empleo fijo y formal ganan en promedio S/ 1,831.40, con solo un 6% en pobreza. Curiosamente, el empleo fijo informal tiene un ingreso promedio mayor (S/ 2,311.13) y una menor tasa de pobreza (3%).\n",
    "\n",
    "2. Quienes tienen negocio propio informal son los más vulnerables, con un ingreso promedio de S/ 528.47 y más de la mitad (60.2%) en pobreza.\n",
    "\n",
    "3. Otros empleos en el sector informal también muestran altos niveles de pobreza (37.1%).\n",
    "\n",
    "* *Insight Clave*\n",
    "\n",
    "        El 60.2% de los trabajadores con negocio propio informal están en pobreza, \n",
    "        en comparación con solo el 6% de quienes tienen empleo fijo formal."
   ]
  },
  {
   "cell_type": "code",
   "execution_count": 10,
   "metadata": {},
   "outputs": [],
   "source": [
    "# Paso 4: Eliminamos variables analizadas para aligerar la memoria\n",
    "df.drop(columns = ['empleo_fijo','negocio_propio','registro_sunat'], inplace= True)"
   ]
  },
  {
   "cell_type": "code",
   "execution_count": 11,
   "metadata": {},
   "outputs": [
    {
     "name": "stdout",
     "output_type": "stream",
     "text": [
      "<class 'pandas.core.frame.DataFrame'>\n",
      "RangeIndex: 72398 entries, 0 to 72397\n",
      "Data columns (total 18 columns):\n",
      " #   Column                      Non-Null Count  Dtype  \n",
      "---  ------                      --------------  -----  \n",
      " 0   mes                         72398 non-null  object \n",
      " 1   ubigeo                      72398 non-null  int64  \n",
      " 2   dominio                     72398 non-null  object \n",
      " 3   estrato                     72398 non-null  object \n",
      " 4   ocupacion_principal         72398 non-null  object \n",
      " 5   trabajo_ocup_principal      72398 non-null  object \n",
      " 6   sueldo_ingresos             72398 non-null  object \n",
      " 7   honorarios_ingresos         72398 non-null  object \n",
      " 8   no_recibe_ingresos          72398 non-null  object \n",
      " 9   tipo_contrato               72398 non-null  object \n",
      " 10  ingreso_total               72398 non-null  float64\n",
      " 11  ocupinf                     72398 non-null  object \n",
      " 12  fact_expan_ingresos_empleo  72398 non-null  float64\n",
      " 13  zonas                       72398 non-null  object \n",
      " 14  estado_pobreza              72398 non-null  object \n",
      " 15  tipo_empleo                 72398 non-null  object \n",
      " 16  tipo_relacion_laboral       72398 non-null  object \n",
      " 17  es_pobre                    72398 non-null  bool   \n",
      "dtypes: bool(1), float64(2), int64(1), object(14)\n",
      "memory usage: 9.5+ MB\n"
     ]
    }
   ],
   "source": [
    "df.info()"
   ]
  },
  {
   "cell_type": "markdown",
   "metadata": {},
   "source": [
    "# 3. Análisis por Zonas y Estratos Socioeconómicos\n",
    "\n",
    "* Variables clave: zonas, estrato, dominio, ubigeo.\n",
    "* Objetivos: Evaluar la pobreza de acuerdo con la ubicación geográfica y estrato socioeconómico.\n",
    "\n",
    "📌 Pobreza por regiones: Usar la variable ubigeo para hacer un análisis geoespacial y \n",
    "determinar qué regiones presentan mayores niveles de pobreza en términos de ingresos o empleo informal.\n",
    "\n",
    "📌 Estratificación socioeconómica: Analizar si los estratos (estrato) más bajos tienen una mayor proporción \n",
    "de personas bajo la línea de pobreza, comparándolos con los estratos más altos.\n",
    "\n",
    "📌Expansión de ingresos: Usar fact_expan_ingresos_empleo para ajustar las estimaciones, permitiendo \n",
    "que tu análisis refleje mejor las diferencias poblacionales entre zonas o estratos."
   ]
  },
  {
   "cell_type": "markdown",
   "metadata": {},
   "source": [
    "* Paso 1: Segmentación por zonas y estrato"
   ]
  },
  {
   "cell_type": "code",
   "execution_count": 12,
   "metadata": {},
   "outputs": [
    {
     "name": "stdout",
     "output_type": "stream",
     "text": [
      "conteo: zonas\n",
      "urbano    52325\n",
      "rural     20073\n",
      "Name: count, dtype: int64\n",
      "-------------\n",
      "conteo: estrato\n",
      "AER Compuesto        15533\n",
      "100,000 a 499,999    14632\n",
      "500,000 a más        12719\n",
      "2,000 a 19,999       10376\n",
      "50,000 a 99,999       5997\n",
      "20,000 a 49,999       5323\n",
      "AER Simple            4540\n",
      "500 a 1,999           3278\n",
      "Name: count, dtype: int64\n"
     ]
    }
   ],
   "source": [
    "#conteo por zona\n",
    "conteo_zonas = df['zonas'].value_counts()\n",
    "\n",
    "#conteo por estrato\n",
    "conteo_estrato = df['estrato'].value_counts()\n",
    "\n",
    "#Mostrar resultados\n",
    "print('conteo:',conteo_zonas)\n",
    "print('-------------')\n",
    "print('conteo:',conteo_estrato)\n",
    "\n"
   ]
  },
  {
   "cell_type": "markdown",
   "metadata": {},
   "source": [
    "* Paso 2: Cálculo de la Proporción de Hogares Bajo la Línea de Pobreza\n",
    "\n",
    "   👉 Usamos la columna creada anteriormente 'es_pobre' de tipo booleano( 1:pobre, 0:no pobre), para filtrar hogares por debajo de la línea de pobreza\n"
   ]
  },
  {
   "cell_type": "code",
   "execution_count": 13,
   "metadata": {},
   "outputs": [
    {
     "name": "stdout",
     "output_type": "stream",
     "text": [
      "Porcentaje Pobreza:\n",
      "👉zonas\n",
      "rural     90.27\n",
      "urbano    10.13\n",
      "dtype: float64\n",
      "-----------------\n",
      "AER = Área de Empadronamiento Rural\n",
      "Porcentaje Pobreza:\n",
      "👉estrato\n",
      "100,000 a 499,999     9.98\n",
      "2,000 a 19,999       11.92\n",
      "20,000 a 49,999      11.65\n",
      "50,000 a 99,999      10.16\n",
      "500 a 1,999          10.40\n",
      "500,000 a más         8.14\n",
      "AER Compuesto        90.61\n",
      "AER Simple           89.10\n",
      "dtype: float64\n"
     ]
    }
   ],
   "source": [
    "#filtramos hogares por debajo de la línea de pobreza\n",
    "hogares_pobreza = df[df['es_pobre'] == 1]\n",
    "\n",
    "#proporción de hogares en pobreza por zona\n",
    "proporcion_pobreza_zonas = hogares_pobreza.groupby('zonas').size() / df.groupby('zonas').size() * 100\n",
    "proporcion_pobreza_zonas = round(proporcion_pobreza_zonas,2)\n",
    "\n",
    "#proporcion de hogares en pobreza por estrato\n",
    "proporcion_pobreza_estrato = hogares_pobreza.groupby('estrato').size() / df.groupby('estrato').size() * 100\n",
    "proporcion_pobreza_estrato = round(proporcion_pobreza_estrato,2)\n",
    "\n",
    "# Mostrar resultados\n",
    "print(f\"Porcentaje Pobreza:\\n👉{proporcion_pobreza_zonas}\")\n",
    "print('-----------------')\n",
    "print(f\"AER = Área de Empadronamiento Rural\")\n",
    "print(f\"Porcentaje Pobreza:\\n👉{proporcion_pobreza_estrato}\")"
   ]
  },
  {
   "cell_type": "markdown",
   "metadata": {},
   "source": [
    "* Paso 3: Análisis por dominio\n",
    "\n",
    "    👉 Realizar un análisis similar utilizando la variable 'dominio' para comparar la pobreza en diferentes regiones geográficas."
   ]
  },
  {
   "cell_type": "code",
   "execution_count": 14,
   "metadata": {},
   "outputs": [
    {
     "name": "stdout",
     "output_type": "stream",
     "text": [
      "Porcentaje de pobreza según: \n",
      "👉dominio\n",
      "Sierra Norte          55.77\n",
      "Sierra Centro         45.21\n",
      "Selva                 41.68\n",
      "Sierra Sur            38.76\n",
      "Costa Norte           25.78\n",
      "Costa Centro          24.06\n",
      "Costa Sur             15.80\n",
      "Lima Metropolitana     7.90\n",
      "dtype: float64\n"
     ]
    }
   ],
   "source": [
    "#Proporción de hogares en pobreza por dominio\n",
    "proporcion_pobreza_dominio = hogares_pobreza.groupby('dominio').size() / df.groupby('dominio').size() * 100\n",
    "proporcion_pobreza_dominio = round(proporcion_pobreza_dominio,2)\n",
    "proporcion_pobreza_dominio = proporcion_pobreza_dominio.sort_values(ascending=False)\n",
    "#mostrar resultad\n",
    "print(f\"Porcentaje de pobreza según: \\n👉{proporcion_pobreza_dominio}\")"
   ]
  },
  {
   "cell_type": "markdown",
   "metadata": {},
   "source": [
    "* Paso 4: Visualización de resultados\n",
    "\n",
    "* Gráfico para visualizar porcentaje de pobreza según:\n",
    "\n",
    "        zonas : 'proporcion_pobreza_zonas'\n",
    "        estrato: 'proporcion_pobreza_estrato'\n",
    "        dominio: 'proporcion_pobreza_dominio'"
   ]
  },
  {
   "cell_type": "code",
   "execution_count": 15,
   "metadata": {},
   "outputs": [
    {
     "data": {
      "image/png": "[encoded data removed]",
      "text/plain": [
       "<Figure size 1200x500 with 1 Axes>"
      ]
     },
     "metadata": {},
     "output_type": "display_data"
    },
    {
     "name": "stdout",
     "output_type": "stream",
     "text": [
      "Porcentaje Pobreza según:\n",
      "👉zonas\n",
      "rural     90.27\n",
      "urbano    10.13\n",
      "dtype: float64\n"
     ]
    }
   ],
   "source": [
    "#Gráfico de barras para zonas\n",
    "plt.figure(figsize=(12,5))\n",
    "proporcion_pobreza_zonas.plot(kind='bar', color = '#F54E70')\n",
    "plt.title('Proporción de Hogares en Pobreza por Zona: rural y urbano', fontsize = 15)\n",
    "plt.xlabel('Zonas', fontsize = 12)\n",
    "plt.ylabel('Tasa de pobreza(%)', fontsize = 12)\n",
    "\n",
    "#etiquetas del eje x horizontal\n",
    "plt.xticks(rotation = 0)\n",
    "#mostrar gráfico\n",
    "plt.tight_layout()\n",
    "plt.show()\n",
    "\n",
    "print(f\"Porcentaje Pobreza según:\\n👉{proporcion_pobreza_zonas}\")"
   ]
  },
  {
   "cell_type": "markdown",
   "metadata": {},
   "source": [
    "📌 Conclusiones para pobreza por zona:\n",
    "\n",
    "1. *Desigualdad marcada:* En las zonas rurales, el 90.27% de los hogares están en pobreza, comparado con solo el 10.13% en zonas urbanas.\n",
    "2. *Enfoque en áreas rurales:* La pobreza es mucho más alta en zonas rurales, lo que requiere mayor atención y recursos.\n",
    "3. *Mejores condiciones en áreas urbanas:* Aunque la pobreza existe en las ciudades, es considerablemente menor que en áreas rurales."
   ]
  },
  {
   "cell_type": "code",
   "execution_count": 16,
   "metadata": {},
   "outputs": [
    {
     "data": {
      "image/png": "[encoded data removed]",
      "text/plain": [
       "<Figure size 1200x500 with 1 Axes>"
      ]
     },
     "metadata": {},
     "output_type": "display_data"
    },
    {
     "name": "stdout",
     "output_type": "stream",
     "text": [
      "Porcentaje Pobreza según:\n",
      "👉dominio\n",
      "Sierra Norte          55.77\n",
      "Sierra Centro         45.21\n",
      "Selva                 41.68\n",
      "Sierra Sur            38.76\n",
      "Costa Norte           25.78\n",
      "Costa Centro          24.06\n",
      "Costa Sur             15.80\n",
      "Lima Metropolitana     7.90\n",
      "dtype: float64\n"
     ]
    }
   ],
   "source": [
    "#Gráfico de barras para dominio\n",
    "plt.figure(figsize=(12,5))\n",
    "proporcion_pobreza_dominio.plot(kind='bar', color = '#F5BD4E')\n",
    "plt.title('Proporción de Hogares en Pobreza por Dominio:', fontsize = 15)\n",
    "plt.xlabel('Dominio', fontsize = 12)\n",
    "plt.ylabel('Tasa de pobreza(%)', fontsize = 12)\n",
    "\n",
    "#etiquetas del eje x horizontal\n",
    "plt.xticks(rotation = 0)\n",
    "#mostrar gráfico\n",
    "plt.tight_layout()\n",
    "plt.show()\n",
    "\n",
    "print(f\"Porcentaje Pobreza según:\\n👉{proporcion_pobreza_dominio.sort_values(ascending=False)}\")"
   ]
  },
  {
   "cell_type": "markdown",
   "metadata": {},
   "source": [
    "📌 Conclusiones:\n",
    "\n",
    "* Lima Metropolitana tiene el porcentaje de pobreza más bajo con un 7.9%, mientras que en otras regiones este porcentaje es significativamente mayor.\n",
    "* En la Sierra Norte, el porcentaje de pobreza llega al 55.77%, es decir, más de 6 veces el porcentaje en Lima.\n",
    "* Otras regiones con altos índices de pobreza incluyen:\n",
    "\n",
    "        Sierra Centro con 45.21%, lo que representa casi 5 veces el porcentaje de Lima.\n",
    "        Selva con 41.68% y Sierra Sur con 38.76%, también muy por encima de Lima.\n",
    "\n",
    "* Las regiones costeras tienen niveles de pobreza más bajos en comparación con las regiones de la sierra y la selva, aunque aún son superiores a Lima:\n",
    "\n",
    "        Costa Centro y Costa Norte tienen aproximadamente un 25%, más del doble del porcentaje en Lima.\n",
    "        Costa Sur tiene un 15.8%, que es más del doble del porcentaje en Lima, pero sigue siendo una de las tasas más bajas fuera de la capital."
   ]
  },
  {
   "cell_type": "markdown",
   "metadata": {},
   "source": [
    "📌 Finalmente observamos que : las zona 'sierra'(norte y sur) tienen una incidencia de pobreza del 55.77 % y 38.76% respectivamente, mientras que Lima Metropolitana tiene solo el 7.9%"
   ]
  },
  {
   "cell_type": "code",
   "execution_count": 17,
   "metadata": {},
   "outputs": [
    {
     "name": "stdout",
     "output_type": "stream",
     "text": [
      "Pobreza en zonas rurales del Norte: 89.9%\n",
      "Pobreza en zonas rurales del sur: 89.6%\n",
      "Pobreza en Lima Metropolitana: 7.9%\n"
     ]
    }
   ],
   "source": [
    "# Filtro para zonas rurales del sur y Lima Metropolitana\n",
    "zona_norte_rural = df[(df['zonas'] == 'rural') & (df['dominio'].str.contains('Norte'))]\n",
    "zona_sur_rural = df[(df['zonas'] == 'rural') & (df['dominio'].str.contains('Sur'))]\n",
    "lima_metropolitana = df[df['dominio'] == 'Lima Metropolitana']\n",
    "\n",
    "# Cálculo de pobreza en las tres zonas\n",
    "proporcion_norte_rural = (zona_norte_rural['es_pobre'].sum() / zona_norte_rural.shape[0]) * 100\n",
    "proporcion_sur_rural = (zona_sur_rural['es_pobre'].sum() / zona_sur_rural.shape[0]) * 100\n",
    "proporcion_lima = (lima_metropolitana['es_pobre'].sum() / lima_metropolitana.shape[0]) * 100\n",
    "\n",
    "# Imprimir resultados\n",
    "print(f'Pobreza en zonas rurales del Norte: {proporcion_norte_rural:.1f}%')\n",
    "print(f'Pobreza en zonas rurales del sur: {proporcion_sur_rural:.1f}%')\n",
    "print(f'Pobreza en Lima Metropolitana: {proporcion_lima:.1f}%')"
   ]
  },
  {
   "cell_type": "markdown",
   "metadata": {},
   "source": [
    "# 4. Multidimensionalidad de la Pobreza\n",
    "\n",
    "* Variables clave: 'tipo_empleo', 'tipo_contrato', 'no_recibe_ingresos', 'ocupacion_principal', 'trabajo_ocup_principal'.\n",
    "* Objetivo: Evaluar la pobreza desde una perspectiva multidimensional, más allá de los ingresos.\n",
    "\n",
    "* Acción: Utilizar varias variables para capturar diferentes dimensiones de la pobreza (ingreso, empleo formal/informal, tipo de contrato).\n",
    "\n"
   ]
  },
  {
   "cell_type": "markdown",
   "metadata": {},
   "source": [
    "* Paso 1: verificar los valores nulos"
   ]
  },
  {
   "cell_type": "code",
   "execution_count": 18,
   "metadata": {},
   "outputs": [
    {
     "data": {
      "text/plain": [
       "mes                           0\n",
       "ubigeo                        0\n",
       "dominio                       0\n",
       "estrato                       0\n",
       "ocupacion_principal           0\n",
       "trabajo_ocup_principal        0\n",
       "sueldo_ingresos               0\n",
       "honorarios_ingresos           0\n",
       "no_recibe_ingresos            0\n",
       "tipo_contrato                 0\n",
       "ingreso_total                 0\n",
       "ocupinf                       0\n",
       "fact_expan_ingresos_empleo    0\n",
       "zonas                         0\n",
       "estado_pobreza                0\n",
       "tipo_empleo                   0\n",
       "tipo_relacion_laboral         0\n",
       "es_pobre                      0\n",
       "dtype: int64"
      ]
     },
     "execution_count": 18,
     "metadata": {},
     "output_type": "execute_result"
    }
   ],
   "source": [
    "df.isnull().sum()"
   ]
  },
  {
   "cell_type": "markdown",
   "metadata": {},
   "source": [
    "* Paso 2: Crear un índice de Pobreza Multidimensional\n",
    "\n",
    "    Definimos la condición de pobreza si hay privación en varias dimensiones (empleo, contrato, ingresos, etc.). Puedes utilizar un sistema de puntos o binarios (1 si hay privación, 0 si no)."
   ]
  },
  {
   "cell_type": "code",
   "execution_count": 19,
   "metadata": {},
   "outputs": [
    {
     "data": {
      "text/html": [
       "<div>\n",
       "<style scoped>\n",
       "    .dataframe tbody tr th:only-of-type {\n",
       "        vertical-align: middle;\n",
       "    }\n",
       "\n",
       "    .dataframe tbody tr th {\n",
       "        vertical-align: top;\n",
       "    }\n",
       "\n",
       "    .dataframe thead th {\n",
       "        text-align: right;\n",
       "    }\n",
       "</style>\n",
       "<table border=\"1\" class=\"dataframe\">\n",
       "  <thead>\n",
       "    <tr style=\"text-align: right;\">\n",
       "      <th></th>\n",
       "      <th>tipo_empleo</th>\n",
       "      <th>tipo_contrato</th>\n",
       "      <th>no_recibe_ingresos</th>\n",
       "      <th>ocupacion_principal</th>\n",
       "      <th>total_privaciones</th>\n",
       "      <th>pobreza_multidimensional</th>\n",
       "    </tr>\n",
       "  </thead>\n",
       "  <tbody>\n",
       "    <tr>\n",
       "      <th>0</th>\n",
       "      <td>otro</td>\n",
       "      <td>missing value</td>\n",
       "      <td>otro</td>\n",
       "      <td>independiente</td>\n",
       "      <td>2</td>\n",
       "      <td>1</td>\n",
       "    </tr>\n",
       "    <tr>\n",
       "      <th>1</th>\n",
       "      <td>otro</td>\n",
       "      <td>otro</td>\n",
       "      <td>no recibe ingresos</td>\n",
       "      <td>no remunerado</td>\n",
       "      <td>4</td>\n",
       "      <td>1</td>\n",
       "    </tr>\n",
       "    <tr>\n",
       "      <th>2</th>\n",
       "      <td>otro</td>\n",
       "      <td>plazo fijo</td>\n",
       "      <td>otro</td>\n",
       "      <td>empleado</td>\n",
       "      <td>1</td>\n",
       "      <td>0</td>\n",
       "    </tr>\n",
       "    <tr>\n",
       "      <th>3</th>\n",
       "      <td>otro</td>\n",
       "      <td>otro</td>\n",
       "      <td>otro</td>\n",
       "      <td>empleado</td>\n",
       "      <td>2</td>\n",
       "      <td>1</td>\n",
       "    </tr>\n",
       "    <tr>\n",
       "      <th>4</th>\n",
       "      <td>otro</td>\n",
       "      <td>missing value</td>\n",
       "      <td>missing value</td>\n",
       "      <td>missing value</td>\n",
       "      <td>3</td>\n",
       "      <td>1</td>\n",
       "    </tr>\n",
       "  </tbody>\n",
       "</table>\n",
       "</div>"
      ],
      "text/plain": [
       "  tipo_empleo  tipo_contrato  no_recibe_ingresos ocupacion_principal  \\\n",
       "0        otro  missing value                otro       independiente   \n",
       "1        otro           otro  no recibe ingresos       no remunerado   \n",
       "2        otro     plazo fijo                otro            empleado   \n",
       "3        otro           otro                otro            empleado   \n",
       "4        otro  missing value       missing value       missing value   \n",
       "\n",
       "   total_privaciones  pobreza_multidimensional  \n",
       "0                  2                         1  \n",
       "1                  4                         1  \n",
       "2                  1                         0  \n",
       "3                  2                         1  \n",
       "4                  3                         1  "
      ]
     },
     "execution_count": 19,
     "metadata": {},
     "output_type": "execute_result"
    }
   ],
   "source": [
    "# crear una columna binaria para cada dimensión de privación\n",
    "df['privación_empleo'] =  df['tipo_empleo'].apply(lambda x: 1 if x in ['otro'] else 0)\n",
    "df['privacion_contrato'] = df['tipo_contrato'].apply(lambda x: 1 if x in ['missing value','otro'] else 0)\n",
    "df['privacion_ingresos'] = df['no_recibe_ingresos'].apply(lambda x: 1 if x == 'no recibe ingresos' else 0)\n",
    "df['privacion_ocupacion'] = df['ocupacion_principal'].apply(lambda x: 1 if x in ['missing value','no remunerado'] else 0)\n",
    "\n",
    "#Sumar las privaciones por hogar\n",
    "df['total_privaciones'] = df[['privación_empleo','privacion_contrato','privacion_ingresos','privacion_ocupacion']].sum(axis=1)\n",
    "\n",
    "#Definir pobreza multidimensional ( si tiene 2 o más privaciones)\n",
    "df['pobreza_multidimensional'] = df['total_privaciones'].apply(lambda x:1 if x >= 2 else 0)\n",
    "\n",
    "#Revisar los resultados\n",
    "df[['tipo_empleo', 'tipo_contrato', 'no_recibe_ingresos', 'ocupacion_principal', 'total_privaciones', 'pobreza_multidimensional']].head()"
   ]
  },
  {
   "cell_type": "markdown",
   "metadata": {},
   "source": [
    "* Paso 3: Analizar los resultados\n",
    "\n",
    "   📌 Analizar la proporción de hogares que sufren pobreza multidimensional y explorar los insights."
   ]
  },
  {
   "cell_type": "code",
   "execution_count": 20,
   "metadata": {},
   "outputs": [
    {
     "name": "stdout",
     "output_type": "stream",
     "text": [
      "📌El promedio de hogares que sufren de Pobreza Multidimensional en Perú tomando en cuenta\n",
      "las variables: 'tipo_empleo', 'tipo_contrato', 'no_recibe_ingresos', 'ocupacion_principal' es:\n",
      "El 80.53% de los hogares sufren pobreza multidimensional\n",
      "\n",
      "estrato\n",
      "100,000 a 499,999    74.54\n",
      "2,000 a 19,999       80.83\n",
      "20,000 a 49,999      78.70\n",
      "50,000 a 99,999      73.74\n",
      "500 a 1,999          87.00\n",
      "500,000 a más        69.67\n",
      "AER Compuesto        93.48\n",
      "AER Simple           91.74\n",
      "Name: pobreza_multidimensional, dtype: float64\n"
     ]
    },
    {
     "data": {
      "image/png": "[encoded data removed]",
      "text/plain": [
       "<Figure size 1500x500 with 1 Axes>"
      ]
     },
     "metadata": {},
     "output_type": "display_data"
    }
   ],
   "source": [
    "# Proporción de pobreza multidimensional\n",
    "pobreza_multidimensional_pct = df['pobreza_multidimensional'].mean() *100\n",
    "print(f\"\"\"📌El promedio de hogares que sufren de Pobreza Multidimensional en Perú tomando en cuenta\n",
    "las variables: 'tipo_empleo', 'tipo_contrato', 'no_recibe_ingresos', 'ocupacion_principal' es:\n",
    "El {pobreza_multidimensional_pct:.2f}% de los hogares sufren pobreza multidimensional\\n\"\"\")\n",
    "\n",
    "#Análisis por estrato \n",
    "pobreza_por_estrato = df.groupby('estrato')['pobreza_multidimensional'].mean() *100\n",
    "pobreza_por_estrato = round(pobreza_por_estrato, 2)\n",
    "print(pobreza_por_estrato)\n",
    "\n",
    "#Visualizando Resultados\n",
    "plt.figure(figsize=(15,5))\n",
    "sns.barplot(x='estrato', y='pobreza_multidimensional', data=df, palette= 'Set2')\n",
    "\n",
    "#titulo y etiquetas\n",
    "plt.title('Porcentaje de Pobreza Multidimensional por Estrato', fontsize = 15)\n",
    "plt.xlabel('Estrato', fontsize = 12)\n",
    "plt.ylabel('Porcentaje de Pobreza Multidimensional', fontsize = 12)\n",
    "plt.tight_layout()\n",
    "plt.show()"
   ]
  },
  {
   "cell_type": "markdown",
   "metadata": {},
   "source": [
    "Paso 4: Insight clave\n",
    "\n",
    "📌  Identificar cuál es el estrato con la mayor proporción de pobreza multidimensional: "
   ]
  },
  {
   "cell_type": "code",
   "execution_count": 21,
   "metadata": {},
   "outputs": [
    {
     "name": "stdout",
     "output_type": "stream",
     "text": [
      "El estrato con mayor pobreza Multidimensional es:\n",
      "Estrato: AER Compuesto\n",
      "📌Porcentaje 93.48%.\n",
      "----------------------------\n",
      "AER = Área de empadronamiento rural\n"
     ]
    }
   ],
   "source": [
    "#Encontrar el estrato con mayor proporción de pobreza Multidimensional\n",
    "estrato_max_pobreza = pobreza_por_estrato.idxmax()\n",
    "porcentaje_max_pobreza = pobreza_por_estrato.max()\n",
    "porcentaje_max_pobreza = round(porcentaje_max_pobreza, 2)\n",
    "\n",
    "print(f\"El estrato con mayor pobreza Multidimensional es:\\nEstrato: {estrato_max_pobreza}\\n📌Porcentaje {porcentaje_max_pobreza}%.\")\n",
    "print('----------------------------')\n",
    "print(f\"AER = Área de empadronamiento rural\")"
   ]
  },
  {
   "cell_type": "code",
   "execution_count": 22,
   "metadata": {},
   "outputs": [
    {
     "name": "stdout",
     "output_type": "stream",
     "text": [
      "estrato\n",
      "100,000 a 499,999    74.54\n",
      "2,000 a 19,999       80.83\n",
      "20,000 a 49,999      78.70\n",
      "50,000 a 99,999      73.74\n",
      "500 a 1,999          87.00\n",
      "500,000 a más        69.67\n",
      "AER Compuesto        93.48\n",
      "AER Simple           91.74\n",
      "Name: pobreza_multidimensional, dtype: float64\n"
     ]
    }
   ],
   "source": [
    "print(pobreza_por_estrato)"
   ]
  },
  {
   "cell_type": "markdown",
   "metadata": {},
   "source": [
    "🎯 CONCLUSIONES:\n",
    "\n",
    "1. *Alto Promedio de Pobreza Multidimensional:* El 81.21% de los hogares en Perú sufren de pobreza multidimensional, indicando múltiples privaciones en áreas críticas como empleo e ingresos.\n",
    "2. *Variación por Estrato:* \n",
    "\n",
    "    📌El estrato 500 a 1,999 tiene la tasa más alta de pobreza multidimensional (87%), mientras que el estrato 500,000 a más presenta la más baja (69.67%).\n",
    "\n",
    "    📌Los estratos AER Compuesto y AER Simple también muestran porcentajes alarmantes de 93.48% y 91.74%, respectivamente.\n",
    "\n",
    "3. *Necesidad de Estrategias Específicas:* Se requieren intervenciones diferenciadas que aborden las privaciones en múltiples dimensiones, especialmente en los estratos más vulnerables.\n",
    "4. *Faltan Variables para Medir la Pobreza:* Es importante considerar que pueden faltar más variables en la medición de la pobreza multidimensional, lo que podría contribuir a los altos porcentajes observados. Incluir dimensiones adicionales podría ofrecer una visión más completa y precisa de la pobreza en Perú.\n",
    "\n",
    "* Insight Clave\n",
    "\n",
    "    📌El 87% de los hogares en Perú sufren de pobreza multidimensional, con el estrato \"500 a 1,999\" mostrando la tasa más alta de privaciones. Esto resalta la necesidad de políticas públicas integrales que mejoren el acceso a empleo formal y condiciones de vida dignas, así como la importancia de incorporar más variables para una medición más precisa de la pobreza multidimensional."
   ]
  },
  {
   "cell_type": "code",
   "execution_count": 23,
   "metadata": {},
   "outputs": [],
   "source": [
    "#Eliminamos variables analizadas para aligerar la memoria\n",
    "df.drop(columns=['no_recibe_ingresos','tipo_contrato',\n",
    "                 'total_privaciones',\n",
    "                 'estrato','privación_empleo',\n",
    "                 'privacion_contrato','privacion_ingresos','privacion_ocupacion','sueldo_ingresos','honorarios_ingresos','fact_expan_ingresos_empleo'], inplace= True)"
   ]
  },
  {
   "cell_type": "code",
   "execution_count": 24,
   "metadata": {},
   "outputs": [
    {
     "name": "stdout",
     "output_type": "stream",
     "text": [
      "<class 'pandas.core.frame.DataFrame'>\n",
      "RangeIndex: 72398 entries, 0 to 72397\n",
      "Data columns (total 13 columns):\n",
      " #   Column                    Non-Null Count  Dtype  \n",
      "---  ------                    --------------  -----  \n",
      " 0   mes                       72398 non-null  object \n",
      " 1   ubigeo                    72398 non-null  int64  \n",
      " 2   dominio                   72398 non-null  object \n",
      " 3   ocupacion_principal       72398 non-null  object \n",
      " 4   trabajo_ocup_principal    72398 non-null  object \n",
      " 5   ingreso_total             72398 non-null  float64\n",
      " 6   ocupinf                   72398 non-null  object \n",
      " 7   zonas                     72398 non-null  object \n",
      " 8   estado_pobreza            72398 non-null  object \n",
      " 9   tipo_empleo               72398 non-null  object \n",
      " 10  tipo_relacion_laboral     72398 non-null  object \n",
      " 11  es_pobre                  72398 non-null  bool   \n",
      " 12  pobreza_multidimensional  72398 non-null  int64  \n",
      "dtypes: bool(1), float64(1), int64(2), object(9)\n",
      "memory usage: 6.7+ MB\n"
     ]
    }
   ],
   "source": [
    "#verificar variables\n",
    "df.info()"
   ]
  },
  {
   "cell_type": "markdown",
   "metadata": {},
   "source": [
    "# 5. Impacto de la Ocupación en la Pobreza\n",
    "\n",
    "* Variables clave: 'ocupacion_principal', 'trabajo_ocup_principal'.\n",
    "* Objetivo: Evaluar si ciertas ocupaciones están más relacionadas con niveles de pobreza.\n",
    "\n",
    "        📌 Acción: Segmentar los hogares por la variable ocupacion_principal y compara los ingresos medios. Calcular qué proporción de personas en cada ocupación se encuentra por debajo de la línea de pobreza."
   ]
  },
  {
   "cell_type": "markdown",
   "metadata": {},
   "source": [
    "* Paso 1: usamos nuestra variable creada 'es_pobre', la cual es una columna binaria para identificar los valores que están por debajo de la línea de pobreza\n",
    "\n",
    "        1: pobre\n",
    "        0: no pobre"
   ]
  },
  {
   "cell_type": "markdown",
   "metadata": {},
   "source": [
    "* Paso 2: Análisis con 'ocupación_principal'"
   ]
  },
  {
   "cell_type": "code",
   "execution_count": 25,
   "metadata": {},
   "outputs": [
    {
     "data": {
      "image/png": "[encoded data removed]",
      "text/plain": [
       "<Figure size 1500x500 with 1 Axes>"
      ]
     },
     "metadata": {},
     "output_type": "display_data"
    },
    {
     "name": "stdout",
     "output_type": "stream",
     "text": [
      "Porcentaje de pobreza \n",
      "\n",
      "👉ocupacion_principal\n",
      "no remunerado    57.0\n",
      "obrero           49.3\n",
      "trab. hogar      41.8\n",
      "otro             35.6\n",
      "independiente    34.7\n",
      "empleador        24.1\n",
      "missing value    17.0\n",
      "empleado         12.8\n",
      "Name: es_pobre, dtype: float64\n"
     ]
    }
   ],
   "source": [
    "#Usamos una columna que indique si el ingreso está por debajo de la línea de pobreza = df['es_pobre']\n",
    "\n",
    "#Calcular la proporción de personas bajo pobreza por ocupación principal\n",
    "pobreza_por_ocupacion = df.groupby('ocupacion_principal')['es_pobre'].mean()*100\n",
    "pobreza_por_ocupacion = round(pobreza_por_ocupacion, 1)\n",
    "pobreza_por_ocupacion =  pobreza_por_ocupacion.sort_values(ascending=False) #ordenamos los valores\n",
    "\n",
    "#Visualización de resultados\n",
    "\n",
    "plt.figure(figsize=(15,5))\n",
    "pobreza_por_ocupacion.plot(kind='bar', color='#F5BD4E')     #la paleta de colores es de \"https://color.adobe.com/\"\n",
    "\n",
    "#Título y etiquetas\n",
    "plt.title('Porcentaje de personas bajo la línea de pobreza por ocupación principal', fontsize = 15)\n",
    "plt.xlabel('Ocupación principal', fontsize = 12)\n",
    "plt.ylabel('Porcentaje de Pobreza (%)', fontsize = 12)\n",
    "plt.xticks(rotation = 0)\n",
    "\n",
    "#Mostrar gráfico\n",
    "plt.show()\n",
    "\n",
    "\n",
    "print('Porcentaje de pobreza \\n')\n",
    "print(f\"👉{pobreza_por_ocupacion}\")\n",
    "\n"
   ]
  },
  {
   "cell_type": "markdown",
   "metadata": {},
   "source": [
    "* Resumen: pobreza por ocupación principal\n",
    "\n",
    "    Los mayores niveles de pobreza se encuentran entre los trabajadores no remunerados (57%), obreros (49.3%) y trabajadores del hogar (41.8%), mientras que los empleados (12.8%) y empleadores (24.1%) muestran niveles significativamente menores. Los trabajadores independientes (34.7%) también presentan una alta incidencia de pobreza, pero menor en comparación con ocupaciones más informales o precarias.\n",
    "\n",
    "📌 Insight Clave\n",
    "\n",
    "    👉Las ocupaciones informales y con menor estabilidad laboral, como los no remunerados, obreros y trabajadores del hogar, muestran una alta vulnerabilidad a la pobreza, superando el 50%, mientras que los empleados formales tienen una incidencia significativamente menor (12.8%), lo que resalta la importancia de la formalización y estabilidad laboral en la reducción de la pobreza."
   ]
  },
  {
   "cell_type": "markdown",
   "metadata": {},
   "source": [
    "* Paso 3: Análisis con 'trabajo_ocup_principal'"
   ]
  },
  {
   "cell_type": "code",
   "execution_count": 26,
   "metadata": {},
   "outputs": [
    {
     "data": {
      "image/png": "[encoded data removed]",
      "text/plain": [
       "<Figure size 1500x500 with 1 Axes>"
      ]
     },
     "metadata": {},
     "output_type": "display_data"
    },
    {
     "name": "stdout",
     "output_type": "stream",
     "text": [
      "👉trabajo_ocup_principal\n",
      "empresa privada           39.9\n",
      "missing value             33.5\n",
      "service                    5.0\n",
      "administración Pública     1.2\n",
      "f.a, pnp, etc              0.0\n",
      "Name: es_pobre, dtype: float64%\n"
     ]
    }
   ],
   "source": [
    "#calcular la proporcion de personas bajo pobreza por 'trabajo_ocup_principal'\n",
    "pobreza_por_trabajo = df.groupby('trabajo_ocup_principal')['es_pobre'].mean() *100\n",
    "pobreza_por_trabajo = round(pobreza_por_trabajo,1)\n",
    "pobreza_por_trabajo =  pobreza_por_trabajo.sort_values(ascending=False) #ordenamos los valores\n",
    "\n",
    "#Visualización de resultados\n",
    "\n",
    "plt.figure(figsize=(15,5))\n",
    "pobreza_por_trabajo.plot(kind='bar', color='#F5BD4E')     #la paleta de colores es de \"https://color.adobe.com/\"\n",
    "\n",
    "#Título y etiquetas\n",
    "plt.title('Porcentaje de personas bajo la línea de pobreza por trabajo principal', fontsize = 15)\n",
    "plt.xlabel('Trabajo Principal', fontsize = 12)\n",
    "plt.ylabel('Porcentaje de Pobreza (%)', fontsize = 12)\n",
    "plt.xticks(rotation = 0)\n",
    "\n",
    "#Mostrar gráfico\n",
    "plt.show()\n",
    "\n",
    "\n",
    "print(f\"👉{pobreza_por_trabajo}%\")"
   ]
  },
  {
   "cell_type": "markdown",
   "metadata": {},
   "source": [
    "* Resumen: pobreza por trabajo principal\n",
    "\n",
    "    El porcentaje de pobreza es más alto entre los trabajadores en la empresa privada (39.9%), seguido por los casos con datos faltantes (33.5%). Los sectores de servicios (5%) y administración pública (1.2%) presentan niveles mucho menores, mientras que en las fuerzas armadas y policiales (0.00%) no se observa pobreza.\n",
    "\n",
    "📌 Insight clave:\n",
    "\n",
    "    👉La alta incidencia de pobreza en el sector privado (39.9%) resalta que muchos empleos en este sector son precarios o de bajos ingresos, mientras que los sectores públicos y de seguridad, con empleos más formales y estables, presentan una mínima o nula incidencia de pobreza, subrayando la relevancia de la estabilidad laboral y beneficios sociales en la reducción de la pobreza."
   ]
  },
  {
   "cell_type": "markdown",
   "metadata": {},
   "source": [
    "# 6. Desigualdad de Ingresos"
   ]
  },
  {
   "cell_type": "markdown",
   "metadata": {},
   "source": [
    "* Variables clave: ingreso_total\n",
    "* Objetivo: Medir la desigualdad en la distribución de ingresos.\n",
    "\n",
    "📌 Acción: Calcular el Índice de Gini y crear la curva de Lorenz para medir la desigualdad de ingresos en el dataset."
   ]
  },
  {
   "cell_type": "markdown",
   "metadata": {},
   "source": [
    "* Paso 1: guardar los valores de la variable 'ingreso_total'"
   ]
  },
  {
   "cell_type": "code",
   "execution_count": 27,
   "metadata": {},
   "outputs": [
    {
     "data": {
      "text/plain": [
       "0        950.0\n",
       "1        950.0\n",
       "2        956.0\n",
       "3        900.0\n",
       "4        950.0\n",
       "         ...  \n",
       "72393    500.0\n",
       "72394    300.0\n",
       "72395    950.0\n",
       "72396    150.0\n",
       "72397    240.0\n",
       "Name: ingreso_total, Length: 72398, dtype: float64"
      ]
     },
     "execution_count": 27,
     "metadata": {},
     "output_type": "execute_result"
    }
   ],
   "source": [
    "#guardamos los valores de 'ingreso_total' en la variable 'ingreso_total'\n",
    "ingreso_total =  df['ingreso_total']\n",
    "ingreso_total\n"
   ]
  },
  {
   "cell_type": "markdown",
   "metadata": {},
   "source": [
    "* Paso 2: Definir una función para calcular el Índice de Gini\n",
    "\n",
    "        El Índice de Gini mide la desigualdad en la distribución de los ingresos. Un valor de 0 indica perfecta igualdad, mientras que un valor de 1 indica máxima desigualdad. Para calcularlo usamos la funcion importada \"Gini\""
   ]
  },
  {
   "cell_type": "code",
   "execution_count": 28,
   "metadata": {},
   "outputs": [
    {
     "name": "stdout",
     "output_type": "stream",
     "text": [
      "Índice de Gini: 0.40\n"
     ]
    }
   ],
   "source": [
    "\n",
    "def calcular_gini(ingresos):\n",
    "    # Ordenar los ingresos en orden creciente\n",
    "    ingresos_sorted = np.sort(ingresos)\n",
    "\n",
    "    # Calcular la proporción acumulada de ingresos y de población\n",
    "    ingresos_acum = np.cumsum(ingresos_sorted)\n",
    "    total_ingresos = ingresos_acum[-1]\n",
    "    ingresos_acum /= total_ingresos\n",
    "\n",
    "    n = len(ingresos)  # número de observaciones\n",
    "    proporciones_poblacion = np.arange(1, n+1) / n  # proporción acumulada de la población\n",
    "\n",
    "    # Calcular el Índice de Gini usando la fórmula\n",
    "    B = np.trapz(ingresos_acum, proporciones_poblacion)  # Área bajo la curva de Lorenz\n",
    "    Gini = 1 - 2 * B\n",
    "\n",
    "    return Gini\n",
    "\n",
    "# Calcular el Índice de Gini\n",
    "gini = calcular_gini(ingreso_total)\n",
    "print(f'Índice de Gini: {gini:.2f}')"
   ]
  },
  {
   "cell_type": "markdown",
   "metadata": {},
   "source": [
    "* ¿Qué significa el valor?\n",
    "\n",
    "        0: Representa igualdad perfecta, es decir, todos tienen los mismos ingresos.\n",
    "        1: Representa desigualdad máxima, donde una sola persona tiene todos los ingresos y los demás no tienen nada.\n",
    "\n",
    "El valor de 0.40 significa que la desigualdad en la distribución de ingresos no es extrema, pero tampoco es insignificante. Comparado con estándares internacionales:\n",
    "\n",
    "                Un Gini cercano a 0.3 se considera baja desigualdad.\n",
    "                Un Gini de 0.4 o más se considera alta desigualdad.\n",
    "\n",
    "El índice de gini de ésta muestra es 0.40, comparado con el gini promedio de Perú 0.42, quiere decir que el resultado obtenido refleja menor desigualdad que el promedio nacional"
   ]
  },
  {
   "cell_type": "markdown",
   "metadata": {},
   "source": [
    "* Paso 3: definir una función para calcular la curva de lorenz\n",
    "\n",
    "    La curva de Lorenz es una representación gráfica de la distribución de los ingresos o la riqueza. Muestra la proporción acumulada de ingresos en relación con la proporción acumulada de la población, ordenada de menor a mayor ingreso."
   ]
  },
  {
   "cell_type": "code",
   "execution_count": 29,
   "metadata": {},
   "outputs": [],
   "source": [
    "def curva_lorenz(ingresos):\n",
    "    # Ordenar los ingresos\n",
    "    ingresos_sorted = np.sort(ingresos)\n",
    "\n",
    "    # Calcular la proporción acumulada de ingresos\n",
    "    ingresos_acum = np.cumsum(ingresos_sorted)\n",
    "    total_ingresos = ingresos_acum[-1]\n",
    "    ingresos_acum /= total_ingresos  # Normalizamos a 1 (proporción)\n",
    "\n",
    "    # Proporción acumulada de la población\n",
    "    n = len(ingresos)\n",
    "    proporciones_poblacion = np.arange(1, n+1) / n\n",
    "    \n",
    "    #Añadir el punto (0,0) para la curva de lorenz\n",
    "    ingresos_acum =  np.insert(ingresos_acum, 0, 0)\n",
    "    proporciones_poblacion =  np.insert(proporciones_poblacion, 0, 0)\n",
    "    \n",
    "    return proporciones_poblacion, ingresos_acum\n"
   ]
  },
  {
   "cell_type": "markdown",
   "metadata": {},
   "source": [
    "* Paso 4: graficar la curva de lorenz"
   ]
  },
  {
   "cell_type": "code",
   "execution_count": 30,
   "metadata": {},
   "outputs": [
    {
     "data": {
      "image/png": "[encoded data removed]",
      "text/plain": [
       "<Figure size 600x600 with 1 Axes>"
      ]
     },
     "metadata": {},
     "output_type": "display_data"
    }
   ],
   "source": [
    "def graficar_curva_lorenz(ingresos):\n",
    "    proporciones_poblacion, ingresos_acum = curva_lorenz(ingresos)\n",
    "\n",
    "    # Crear la gráfica\n",
    "    plt.figure(figsize=(6,6))\n",
    "    plt.plot(proporciones_poblacion, ingresos_acum, label=\"Curva de Lorenz\", color=\"#488EFA\")\n",
    "    plt.plot([0,1], [0,1], label=\"Igualdad Perfecta\", linestyle='--', color='red')  # Línea de igualdad perfecta\n",
    "    plt.fill_between(proporciones_poblacion, ingresos_acum, color=\"blue\", alpha=0.1)  # Relleno bajo la curva\n",
    "\n",
    "    # Añadir etiquetas y título\n",
    "    plt.title('Curva de Lorenz', fontsize = 15)\n",
    "    plt.xlabel('Proporción acumulada de la población', fontsize = 12)\n",
    "    plt.ylabel('Proporción acumulada de los ingresos', fontsize = 12)\n",
    "    plt.legend()\n",
    "    plt.grid(True)\n",
    "    plt.show()\n",
    "\n",
    "\n",
    "# Graficar la Curva de Lorenz\n",
    "graficar_curva_lorenz(ingreso_total)"
   ]
  },
  {
   "cell_type": "markdown",
   "metadata": {},
   "source": [
    "* Paso 5: calcular el índice de Gini por zonas (urbano y rural) usando la función ya creada 'calcular_gini()'"
   ]
  },
  {
   "cell_type": "code",
   "execution_count": 31,
   "metadata": {},
   "outputs": [
    {
     "data": {
      "text/plain": [
       "zonas\n",
       "urbano    52325\n",
       "rural     20073\n",
       "Name: count, dtype: int64"
      ]
     },
     "execution_count": 31,
     "metadata": {},
     "output_type": "execute_result"
    }
   ],
   "source": [
    "df['zonas'].value_counts()"
   ]
  },
  {
   "cell_type": "code",
   "execution_count": 32,
   "metadata": {},
   "outputs": [
    {
     "name": "stdout",
     "output_type": "stream",
     "text": [
      "Índice de gini - Zona Urbana: 0.30\n",
      "Índice de gini - Zona Rural: 0.28\n"
     ]
    }
   ],
   "source": [
    "#filtramos los datos por zona: rural y urbano\n",
    "ingresos_urbanos = df[df['zonas'] == 'urbano']['ingreso_total'].to_numpy() #ingresos en zona urbana\n",
    "ingresos_rurales = df[df['zonas'] == 'rural']['ingreso_total'].to_numpy() #ingresos en zona rural\n",
    "\n",
    "\n",
    "#calcular el índice de gini para cada zona usando la funcion 'calcular_gini'\n",
    "gini_urbano = calcular_gini(ingresos_urbanos)\n",
    "gini_rural = calcular_gini(ingresos_rurales)\n",
    "\n",
    "#mostrar resultados\n",
    "print(f\"Índice de gini - Zona Urbana: {gini_urbano:.2f}\")\n",
    "print(f\"Índice de gini - Zona Rural: {gini_rural:.2f}\")"
   ]
  },
  {
   "cell_type": "markdown",
   "metadata": {},
   "source": [
    "📌 CONCLUSIONES:\n",
    "\n",
    "👉El Índice de Gini promedio de 0.40 refleja una desigualdad moderada en la distribución de ingresos en Perú, lo que indica que la pobreza no solo está ligada a bajos ingresos, sino también a cómo estos se distribuyen. Las zonas rurales y los estratos socioeconómicos más bajos enfrentan mayores desigualdades, perpetuando ciclos de pobreza.\n",
    "\n",
    "👉Índice de Gini en zona urbana (0.30): Indica moderada desigualdad, reflejando mayor variabilidad en ingresos debido a una economía más diversa.\n",
    "\n",
    "👉Índice de Gini en zona rural (0.28): La desigualdad es ligeramente menor, pero los ingresos son más bajos y homogéneos.\n",
    "\n",
    "* Insight Clave\n",
    "\n",
    "    ✅ En zonas rurales, la pobreza está relacionada con bajos ingresos generales más que con la desigualdad, mientras que en zonas urbanas, la desigualdad en el acceso a oportunidades es un factor importante que agrava la pobreza."
   ]
  },
  {
   "cell_type": "code",
   "execution_count": 33,
   "metadata": {},
   "outputs": [
    {
     "name": "stdout",
     "output_type": "stream",
     "text": [
      "<class 'pandas.core.frame.DataFrame'>\n",
      "RangeIndex: 72398 entries, 0 to 72397\n",
      "Data columns (total 13 columns):\n",
      " #   Column                    Non-Null Count  Dtype  \n",
      "---  ------                    --------------  -----  \n",
      " 0   mes                       72398 non-null  object \n",
      " 1   ubigeo                    72398 non-null  int64  \n",
      " 2   dominio                   72398 non-null  object \n",
      " 3   ocupacion_principal       72398 non-null  object \n",
      " 4   trabajo_ocup_principal    72398 non-null  object \n",
      " 5   ingreso_total             72398 non-null  float64\n",
      " 6   ocupinf                   72398 non-null  object \n",
      " 7   zonas                     72398 non-null  object \n",
      " 8   estado_pobreza            72398 non-null  object \n",
      " 9   tipo_empleo               72398 non-null  object \n",
      " 10  tipo_relacion_laboral     72398 non-null  object \n",
      " 11  es_pobre                  72398 non-null  bool   \n",
      " 12  pobreza_multidimensional  72398 non-null  int64  \n",
      "dtypes: bool(1), float64(1), int64(2), object(9)\n",
      "memory usage: 6.7+ MB\n"
     ]
    }
   ],
   "source": [
    "df.info()"
   ]
  },
  {
   "cell_type": "code",
   "execution_count": 34,
   "metadata": {},
   "outputs": [],
   "source": [
    "#guardamos la data para pasar a la conversión de ubigeo\n",
    "# y posteriormente a la visualización del Dashboard en Tableau\n",
    "ruta = ('C:\\\\Users\\\\LENOVO\\\\Desktop\\\\Projects\\\\Peru-Poverty-2019\\\\ubigeo-conversion-data2019-500.csv')\n",
    "\n",
    "df.to_csv(ruta,index=False)"
   ]
  },
  {
   "cell_type": "markdown",
   "metadata": {},
   "source": [
    "# Visualización de la información en Tableau"
   ]
  },
  {
   "cell_type": "markdown",
   "metadata": {},
   "source": [
    "* Paso 1: Transformar la variable ubigeo a ubicaciones geográficas (departamento, provincia y distrito) \n",
    "\n",
    "    👉Puedes descargar el archivo de referencia UBIGEO: 'geodir-ubigeo-inei.xlsx' en la página de INEI : \n",
    "\n",
    "    https://account.geodir.co/recursos/ubigeo-inei-peru.html\n",
    "\n",
    "\n",
    "    📌 o descarga el archivo ubigeo directo aquí: 👇👇\n",
    "    \n",
    "    ✅ https://github.com/WLozanoH/Poverty-Peru/blob/main/geodir-ubigeo-inei.csv"
   ]
  },
  {
   "cell_type": "code",
   "execution_count": 35,
   "metadata": {},
   "outputs": [],
   "source": [
    "#importar las librerías necesarias \n",
    "import pandas as pd\n",
    "\n",
    "## Cargar el archivo de referencia UBIGEO (geodir-ubigeo-inei.csv)\n",
    "ubigeo_ref = pd.read_csv('geodir-ubigeo-inei.csv', sep = ';') # Este archivo debe contener columnas: ['ubigeo', 'departamento', 'provincia', 'distrito']\n",
    "\n",
    "ubigeos = pd.read_csv('ubigeo-conversion-data2019-500.csv', usecols=['mes','ubigeo','dominio','ocupacion_principal','ingreso_total','zonas','estado_pobreza','tipo_relacion_laboral','es_pobre','pobreza_multidimensional'], sep=',')"
   ]
  },
  {
   "cell_type": "markdown",
   "metadata": {},
   "source": [
    "* Paso 2: Unir ambos dataset\n",
    "\n",
    "    Utiliza la variable 'ubigeo' para hacer una \"join\" entre los dos datasets, de modo que puedas obtener las ubicaciones correspondientes a cada UBIGEO.\n"
   ]
  },
  {
   "cell_type": "code",
   "execution_count": 36,
   "metadata": {},
   "outputs": [
    {
     "name": "stdout",
     "output_type": "stream",
     "text": [
      "<class 'pandas.core.frame.DataFrame'>\n",
      "RangeIndex: 72398 entries, 0 to 72397\n",
      "Data columns (total 10 columns):\n",
      " #   Column                    Non-Null Count  Dtype  \n",
      "---  ------                    --------------  -----  \n",
      " 0   mes                       72398 non-null  object \n",
      " 1   ubigeo                    72398 non-null  int64  \n",
      " 2   dominio                   72398 non-null  object \n",
      " 3   ocupacion_principal       72398 non-null  object \n",
      " 4   ingreso_total             72398 non-null  float64\n",
      " 5   zonas                     72398 non-null  object \n",
      " 6   estado_pobreza            72398 non-null  object \n",
      " 7   tipo_relacion_laboral     72398 non-null  object \n",
      " 8   es_pobre                  72398 non-null  bool   \n",
      " 9   pobreza_multidimensional  72398 non-null  int64  \n",
      "dtypes: bool(1), float64(1), int64(2), object(6)\n",
      "memory usage: 5.0+ MB\n"
     ]
    }
   ],
   "source": [
    "ubigeos.info()"
   ]
  },
  {
   "cell_type": "markdown",
   "metadata": {},
   "source": [
    "📌 Asegúrate que la variable 'ubigeo' esté escrita igual en ambos dataset para unir con éxito los datos."
   ]
  },
  {
   "cell_type": "code",
   "execution_count": 37,
   "metadata": {},
   "outputs": [
    {
     "data": {
      "text/html": [
       "<div>\n",
       "<style scoped>\n",
       "    .dataframe tbody tr th:only-of-type {\n",
       "        vertical-align: middle;\n",
       "    }\n",
       "\n",
       "    .dataframe tbody tr th {\n",
       "        vertical-align: top;\n",
       "    }\n",
       "\n",
       "    .dataframe thead th {\n",
       "        text-align: right;\n",
       "    }\n",
       "</style>\n",
       "<table border=\"1\" class=\"dataframe\">\n",
       "  <thead>\n",
       "    <tr style=\"text-align: right;\">\n",
       "      <th></th>\n",
       "      <th>mes</th>\n",
       "      <th>ubigeo</th>\n",
       "      <th>dominio</th>\n",
       "      <th>ocupacion_principal</th>\n",
       "      <th>ingreso_total</th>\n",
       "      <th>zonas</th>\n",
       "      <th>estado_pobreza</th>\n",
       "      <th>tipo_relacion_laboral</th>\n",
       "      <th>es_pobre</th>\n",
       "      <th>pobreza_multidimensional</th>\n",
       "      <th>Distrito</th>\n",
       "      <th>Provincia</th>\n",
       "      <th>Departamento</th>\n",
       "      <th>Poblacion</th>\n",
       "      <th>Superficie</th>\n",
       "      <th>Y</th>\n",
       "      <th>X</th>\n",
       "    </tr>\n",
       "  </thead>\n",
       "  <tbody>\n",
       "    <tr>\n",
       "      <th>0</th>\n",
       "      <td>Enero</td>\n",
       "      <td>10101</td>\n",
       "      <td>Sierra Norte</td>\n",
       "      <td>independiente</td>\n",
       "      <td>950.0</td>\n",
       "      <td>urbano</td>\n",
       "      <td>No pobre</td>\n",
       "      <td>informal</td>\n",
       "      <td>False</td>\n",
       "      <td>1</td>\n",
       "      <td>Chachapoyas</td>\n",
       "      <td>Chachapoyas</td>\n",
       "      <td>Amazonas</td>\n",
       "      <td>29,171</td>\n",
       "      <td>153.78</td>\n",
       "      <td>-6.2294</td>\n",
       "      <td>-77.8714</td>\n",
       "    </tr>\n",
       "    <tr>\n",
       "      <th>1</th>\n",
       "      <td>Enero</td>\n",
       "      <td>10101</td>\n",
       "      <td>Sierra Norte</td>\n",
       "      <td>no remunerado</td>\n",
       "      <td>950.0</td>\n",
       "      <td>urbano</td>\n",
       "      <td>No pobre</td>\n",
       "      <td>informal</td>\n",
       "      <td>False</td>\n",
       "      <td>1</td>\n",
       "      <td>Chachapoyas</td>\n",
       "      <td>Chachapoyas</td>\n",
       "      <td>Amazonas</td>\n",
       "      <td>29,171</td>\n",
       "      <td>153.78</td>\n",
       "      <td>-6.2294</td>\n",
       "      <td>-77.8714</td>\n",
       "    </tr>\n",
       "    <tr>\n",
       "      <th>2</th>\n",
       "      <td>Enero</td>\n",
       "      <td>10101</td>\n",
       "      <td>Sierra Norte</td>\n",
       "      <td>empleado</td>\n",
       "      <td>956.0</td>\n",
       "      <td>urbano</td>\n",
       "      <td>No pobre</td>\n",
       "      <td>formal</td>\n",
       "      <td>False</td>\n",
       "      <td>0</td>\n",
       "      <td>Chachapoyas</td>\n",
       "      <td>Chachapoyas</td>\n",
       "      <td>Amazonas</td>\n",
       "      <td>29,171</td>\n",
       "      <td>153.78</td>\n",
       "      <td>-6.2294</td>\n",
       "      <td>-77.8714</td>\n",
       "    </tr>\n",
       "    <tr>\n",
       "      <th>3</th>\n",
       "      <td>Enero</td>\n",
       "      <td>10101</td>\n",
       "      <td>Sierra Norte</td>\n",
       "      <td>empleado</td>\n",
       "      <td>900.0</td>\n",
       "      <td>urbano</td>\n",
       "      <td>No pobre</td>\n",
       "      <td>formal</td>\n",
       "      <td>False</td>\n",
       "      <td>1</td>\n",
       "      <td>Chachapoyas</td>\n",
       "      <td>Chachapoyas</td>\n",
       "      <td>Amazonas</td>\n",
       "      <td>29,171</td>\n",
       "      <td>153.78</td>\n",
       "      <td>-6.2294</td>\n",
       "      <td>-77.8714</td>\n",
       "    </tr>\n",
       "    <tr>\n",
       "      <th>4</th>\n",
       "      <td>Enero</td>\n",
       "      <td>10101</td>\n",
       "      <td>Sierra Norte</td>\n",
       "      <td>missing value</td>\n",
       "      <td>950.0</td>\n",
       "      <td>urbano</td>\n",
       "      <td>No pobre</td>\n",
       "      <td>informal</td>\n",
       "      <td>False</td>\n",
       "      <td>1</td>\n",
       "      <td>Chachapoyas</td>\n",
       "      <td>Chachapoyas</td>\n",
       "      <td>Amazonas</td>\n",
       "      <td>29,171</td>\n",
       "      <td>153.78</td>\n",
       "      <td>-6.2294</td>\n",
       "      <td>-77.8714</td>\n",
       "    </tr>\n",
       "  </tbody>\n",
       "</table>\n",
       "</div>"
      ],
      "text/plain": [
       "     mes  ubigeo       dominio ocupacion_principal  ingreso_total   zonas  \\\n",
       "0  Enero   10101  Sierra Norte       independiente          950.0  urbano   \n",
       "1  Enero   10101  Sierra Norte       no remunerado          950.0  urbano   \n",
       "2  Enero   10101  Sierra Norte            empleado          956.0  urbano   \n",
       "3  Enero   10101  Sierra Norte            empleado          900.0  urbano   \n",
       "4  Enero   10101  Sierra Norte       missing value          950.0  urbano   \n",
       "\n",
       "  estado_pobreza tipo_relacion_laboral  es_pobre  pobreza_multidimensional  \\\n",
       "0       No pobre              informal     False                         1   \n",
       "1       No pobre              informal     False                         1   \n",
       "2       No pobre                formal     False                         0   \n",
       "3       No pobre                formal     False                         1   \n",
       "4       No pobre              informal     False                         1   \n",
       "\n",
       "      Distrito    Provincia Departamento Poblacion Superficie       Y  \\\n",
       "0  Chachapoyas  Chachapoyas     Amazonas    29,171     153.78 -6.2294   \n",
       "1  Chachapoyas  Chachapoyas     Amazonas    29,171     153.78 -6.2294   \n",
       "2  Chachapoyas  Chachapoyas     Amazonas    29,171     153.78 -6.2294   \n",
       "3  Chachapoyas  Chachapoyas     Amazonas    29,171     153.78 -6.2294   \n",
       "4  Chachapoyas  Chachapoyas     Amazonas    29,171     153.78 -6.2294   \n",
       "\n",
       "          X  \n",
       "0  -77.8714  \n",
       "1  -77.8714  \n",
       "2  -77.8714  \n",
       "3  -77.8714  \n",
       "4  -77.8714  "
      ]
     },
     "execution_count": 37,
     "metadata": {},
     "output_type": "execute_result"
    }
   ],
   "source": [
    "# Hacer un merge para añadir la información geográfica a los UBIGEOs\n",
    "resultado = pd.merge(ubigeos, ubigeo_ref, on = 'ubigeo', how ='left')\n",
    "resultado.head()"
   ]
  },
  {
   "cell_type": "markdown",
   "metadata": {},
   "source": [
    "* Paso 3: Guardar los resultados\n",
    "\n",
    "    Una vez que tengas las ubicaciones mapeadas, puedes guardar los resultados en un nuevo archivo CSV."
   ]
  },
  {
   "cell_type": "code",
   "execution_count": 38,
   "metadata": {},
   "outputs": [],
   "source": [
    "# Guardar el resultado en un archivo CSV\n",
    "\n",
    "resultado.to_csv('visualización-data-pobreza2019.csv', index=False)"
   ]
  },
  {
   "cell_type": "markdown",
   "metadata": {},
   "source": [
    "📌 Puedes ver el resultado del dashboard de Pobreza en Perú 2019 en el siguiente enlace: 👇👇\n",
    "\n",
    "✅ https://public.tableau.com/app/profile/wilmer.lozano/viz/Visualization-tableau-Poverty-Peru-2019-Analysis/Dashboard1?publish=yes"
   ]
  }
 ],
 "metadata": {
  "kernelspec": {
   "display_name": "base",
   "language": "python",
   "name": "python3"
  },
  "language_info": {
   "codemirror_mode": {
    "name": "ipython",
    "version": 3
   },
   "file_extension": ".py",
   "mimetype": "text/x-python",
   "name": "python",
   "nbconvert_exporter": "python",
   "pygments_lexer": "ipython3",
   "version": "3.12.4"
  }
 },
 "nbformat": 4,
 "nbformat_minor": 2
}
